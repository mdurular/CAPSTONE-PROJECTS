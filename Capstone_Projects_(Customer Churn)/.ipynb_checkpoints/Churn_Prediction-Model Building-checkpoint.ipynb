{
 "cells": [
  {
   "cell_type": "markdown",
   "metadata": {
    "id": "Mg_ZAS0B2slE"
   },
   "source": [
    "___\n",
    "\n",
    "<p style=\"text-align: center;\"><img src=\"https://docs.google.com/uc?id=1lY0Uj5R04yMY3-ZppPWxqCr5pvBLYPnV\" class=\"img-fluid\" alt=\"CLRSWY\"></p>\n",
    "\n",
    "___"
   ]
  },
  {
   "cell_type": "markdown",
   "metadata": {
    "id": "8EjVhtzq2slH"
   },
   "source": [
    "# WELCOME!"
   ]
  },
  {
   "cell_type": "markdown",
   "metadata": {
    "id": "JqV3cXW-2slL"
   },
   "source": [
    "Welcome to \"***Employee Churn Analysis Project***\". This is the second project of Capstone Project Series, which you will be able to build your own classification models for a variety of business settings. \n",
    "\n",
    "Also you will learn what is Employee Churn?, How it is different from customer churn, Exploratory data analysis and visualization of employee churn dataset using ***matplotlib*** and ***seaborn***, model building and evaluation using python ***scikit-learn*** package. \n",
    "\n",
    "You will be able to implement classification techniques in Python. Using Scikit-Learn allowing you to successfully make predictions with the Random Forest, Gradient Descent Boosting , KNN algorithms.\n",
    "\n",
    "At the end of the project, you will have the opportunity to deploy your model using *Streamlit*.\n",
    "\n",
    "Before diving into the project, please take a look at the determines and project structure.\n",
    "\n",
    "- NOTE: This project assumes that you already know the basics of coding in Python and are familiar with model deployement as well as the theory behind K-Means, Gradient Boosting , KNN, Random Forest, and Confusion Matrices. You can try more models and methods beside these to improve your model metrics.\n",
    "\n"
   ]
  },
  {
   "cell_type": "markdown",
   "metadata": {
    "id": "4oRnVXpS2slN"
   },
   "source": [
    "# Determines\n",
    "In this project you have HR data of a company. A study is requested from you to predict which employee will churn by using this data.\n",
    "\n",
    "The HR dataset has 14,999 samples. In the given dataset, you have two types of employee one who stayed and another who left the company.\n",
    "\n",
    "You can describe 10 attributes in detail as:\n",
    "- ***satisfaction_level:*** It is employee satisfaction point, which ranges from 0-1.\n",
    "- ***last_evaluation:*** It is evaluated performance by the employer, which also ranges from 0-1.\n",
    "- ***number_projects:*** How many of projects assigned to an employee?\n",
    "- ***average_monthly_hours:*** How many hours in average an employee worked in a month?\n",
    "- **time_spent_company:** time_spent_company means employee experience. The number of years spent by an employee in the company.\n",
    "- ***work_accident:*** Whether an employee has had a work accident or not.\n",
    "- ***promotion_last_5years:*** Whether an employee has had a promotion in the last 5 years or not.\n",
    "- ***Departments:*** Employee's working department/division.\n",
    "- ***Salary:*** Salary level of the employee such as low, medium and high.\n",
    "- ***left:*** Whether the employee has left the company or not.\n",
    "\n",
    "First of all, to observe the structure of the data, outliers, missing values and features that affect the target variable, you must use exploratory data analysis and data visualization techniques. \n",
    "\n",
    "Then, you must perform data pre-processing operations such as ***Scaling*** and ***Label Encoding*** to increase the accuracy score of Gradient Descent Based or Distance-Based algorithms. you are asked to perform ***Cluster Analysis*** based on the information you obtain during exploratory data analysis and data visualization processes. \n",
    "\n",
    "The purpose of clustering analysis is to cluster data with similar characteristics. You are asked to use the ***K-means*** algorithm to make cluster analysis. However, you must provide the K-means algorithm with information about the number of clusters it will make predictions. Also, the data you apply to the K-means algorithm must be scaled. In order to find the optimal number of clusters, you are asked to use the ***Elbow method***. Briefly, try to predict the set to which individuals are related by using K-means and evaluate the estimation results.\n",
    "\n",
    "Once the data is ready to be applied to the model, you must ***split the data into train and test***. Then build a model to predict whether employees will churn or not. Train your models with your train set, test the success of your model with your test set. \n",
    "\n",
    "Try to make your predictions by using the algorithms ***Gradient Boosting Classifier***, ***K Neighbors Classifier***, ***Random Forest Classifier***. You can use the related modules of the ***scikit-learn*** library. You can use scikit-learn ***Confusion Metrics*** module for accuracy calculation. You can use the ***Yellowbrick*** module for model selection and visualization.\n",
    "\n",
    "In the final step, you will deploy your model using Streamlit tool.\n",
    "\n"
   ]
  },
  {
   "cell_type": "markdown",
   "metadata": {
    "id": "97xzRLNj2slO"
   },
   "source": [
    "# Tasks\n",
    "\n",
    "#### 1. Exploratory Data Analysis\n",
    "- Importing Modules\n",
    "- Loading Dataset\n",
    "- Data Insights\n",
    "\n",
    "#### 2. Data Visualization\n",
    "- Employees Left\n",
    "- Determine Number of Projects\n",
    "- Determine Time Spent in Company\n",
    "- Subplots of Features\n",
    "\n",
    "#### 3. Data Pre-Processing\n",
    "- Scaling\n",
    "- Label Encoding\n",
    "\n",
    "#### 4. Cluster Analysis\n",
    "- Find the optimal number of clusters (k) using the elbow method for for K-means.\n",
    "- Determine the clusters by using K-Means then Evaluate predicted results.\n",
    "\n",
    "#### 5. Model Building\n",
    "- Split Data as Train and Test set\n",
    "- Built Gradient Boosting Classifier, Evaluate Model Performance and Predict Test Data\n",
    "- Built K Neighbors Classifier and Evaluate Model Performance and Predict Test Data\n",
    "- Built Random Forest Classifier and Evaluate Model Performance and Predict Test Data\n",
    "\n",
    "#### 6. Model Deployement\n",
    "\n",
    "- Save and Export the Model as .pkl\n",
    "- Save and Export Variables as .pkl "
   ]
  },
  {
   "cell_type": "markdown",
   "metadata": {
    "id": "WLTGi7q02slP"
   },
   "source": [
    "## 1. Exploratory Data Analysis\n",
    "\n",
    "Exploratory Data Analysis is an initial process of analysis, in which you can summarize characteristics of data such as pattern, trends, outliers, and hypothesis testing using descriptive statistics and visualization."
   ]
  },
  {
   "cell_type": "markdown",
   "metadata": {
    "id": "TyrWBiyM2sld"
   },
   "source": [
    "### Importing Modules"
   ]
  },
  {
   "cell_type": "code",
   "execution_count": 1,
   "metadata": {
    "id": "TI19sGjE2slf"
   },
   "outputs": [],
   "source": [
    "import numpy as np\n",
    "import pandas as pd\n",
    "import matplotlib.pyplot as plt\n",
    "import seaborn as sns\n",
    "\n",
    "from scipy.stats import skew\n",
    "import warnings\n",
    "warnings.filterwarnings('ignore')\n",
    "\n",
    "# Libraries for Style\n",
    "from colorama import Fore, Style\n",
    "from termcolor import colored, cprint\n",
    "from yellowbrick.style import set_palette\n",
    "set_palette('flatui')\n",
    "\n",
    "sns.set_style(\"whitegrid\")\n",
    "plt.rcParams[\"figure.figsize\"] = (10,6)\n",
    "# pd.set_option('display.max_columns', 100)\n",
    "# pd.set_option('display.max_rows', 150)\n",
    "pd.set_option('display.float_format', '{:.3f}'.format)"
   ]
  },
  {
   "cell_type": "markdown",
   "metadata": {
    "id": "vS9n2J9-2sln"
   },
   "source": [
    "### Loading Dataset\n",
    "\n",
    "Let's first load the required HR dataset using pandas's \"read_csv\" function."
   ]
  },
  {
   "cell_type": "code",
   "execution_count": 2,
   "metadata": {
    "id": "rvS39ktq2slt"
   },
   "outputs": [
    {
     "data": {
      "text/html": [
       "<div>\n",
       "<style scoped>\n",
       "    .dataframe tbody tr th:only-of-type {\n",
       "        vertical-align: middle;\n",
       "    }\n",
       "\n",
       "    .dataframe tbody tr th {\n",
       "        vertical-align: top;\n",
       "    }\n",
       "\n",
       "    .dataframe thead th {\n",
       "        text-align: right;\n",
       "    }\n",
       "</style>\n",
       "<table border=\"1\" class=\"dataframe\">\n",
       "  <thead>\n",
       "    <tr style=\"text-align: right;\">\n",
       "      <th></th>\n",
       "      <th>satisfaction_level</th>\n",
       "      <th>last_evaluation</th>\n",
       "      <th>number_project</th>\n",
       "      <th>average_montly_hours</th>\n",
       "      <th>time_spend_company</th>\n",
       "      <th>Work_accident</th>\n",
       "      <th>left</th>\n",
       "      <th>promotion_last_5years</th>\n",
       "      <th>Departments</th>\n",
       "      <th>salary</th>\n",
       "    </tr>\n",
       "  </thead>\n",
       "  <tbody>\n",
       "    <tr>\n",
       "      <th>0</th>\n",
       "      <td>0.380</td>\n",
       "      <td>0.530</td>\n",
       "      <td>2</td>\n",
       "      <td>157</td>\n",
       "      <td>3</td>\n",
       "      <td>0</td>\n",
       "      <td>1</td>\n",
       "      <td>0</td>\n",
       "      <td>sales</td>\n",
       "      <td>low</td>\n",
       "    </tr>\n",
       "    <tr>\n",
       "      <th>1</th>\n",
       "      <td>0.800</td>\n",
       "      <td>0.860</td>\n",
       "      <td>5</td>\n",
       "      <td>262</td>\n",
       "      <td>6</td>\n",
       "      <td>0</td>\n",
       "      <td>1</td>\n",
       "      <td>0</td>\n",
       "      <td>sales</td>\n",
       "      <td>medium</td>\n",
       "    </tr>\n",
       "    <tr>\n",
       "      <th>2</th>\n",
       "      <td>0.110</td>\n",
       "      <td>0.880</td>\n",
       "      <td>7</td>\n",
       "      <td>272</td>\n",
       "      <td>4</td>\n",
       "      <td>0</td>\n",
       "      <td>1</td>\n",
       "      <td>0</td>\n",
       "      <td>sales</td>\n",
       "      <td>medium</td>\n",
       "    </tr>\n",
       "    <tr>\n",
       "      <th>3</th>\n",
       "      <td>0.720</td>\n",
       "      <td>0.870</td>\n",
       "      <td>5</td>\n",
       "      <td>223</td>\n",
       "      <td>5</td>\n",
       "      <td>0</td>\n",
       "      <td>1</td>\n",
       "      <td>0</td>\n",
       "      <td>sales</td>\n",
       "      <td>low</td>\n",
       "    </tr>\n",
       "    <tr>\n",
       "      <th>4</th>\n",
       "      <td>0.370</td>\n",
       "      <td>0.520</td>\n",
       "      <td>2</td>\n",
       "      <td>159</td>\n",
       "      <td>3</td>\n",
       "      <td>0</td>\n",
       "      <td>1</td>\n",
       "      <td>0</td>\n",
       "      <td>sales</td>\n",
       "      <td>low</td>\n",
       "    </tr>\n",
       "  </tbody>\n",
       "</table>\n",
       "</div>"
      ],
      "text/plain": [
       "   satisfaction_level  last_evaluation  number_project  average_montly_hours  \\\n",
       "0               0.380            0.530               2                   157   \n",
       "1               0.800            0.860               5                   262   \n",
       "2               0.110            0.880               7                   272   \n",
       "3               0.720            0.870               5                   223   \n",
       "4               0.370            0.520               2                   159   \n",
       "\n",
       "   time_spend_company  Work_accident  left  promotion_last_5years  \\\n",
       "0                   3              0     1                      0   \n",
       "1                   6              0     1                      0   \n",
       "2                   4              0     1                      0   \n",
       "3                   5              0     1                      0   \n",
       "4                   3              0     1                      0   \n",
       "\n",
       "  Departments   salary  \n",
       "0        sales     low  \n",
       "1        sales  medium  \n",
       "2        sales  medium  \n",
       "3        sales     low  \n",
       "4        sales     low  "
      ]
     },
     "execution_count": 2,
     "metadata": {},
     "output_type": "execute_result"
    }
   ],
   "source": [
    "df = pd.read_csv('HR_Dataset.csv')\n",
    "df.head()"
   ]
  },
  {
   "cell_type": "code",
   "execution_count": 3,
   "metadata": {},
   "outputs": [
    {
     "name": "stdout",
     "output_type": "stream",
     "text": [
      "<class 'pandas.core.frame.DataFrame'>\n",
      "RangeIndex: 14999 entries, 0 to 14998\n",
      "Data columns (total 10 columns):\n",
      " #   Column                 Non-Null Count  Dtype  \n",
      "---  ------                 --------------  -----  \n",
      " 0   satisfaction_level     14999 non-null  float64\n",
      " 1   last_evaluation        14999 non-null  float64\n",
      " 2   number_project         14999 non-null  int64  \n",
      " 3   average_montly_hours   14999 non-null  int64  \n",
      " 4   time_spend_company     14999 non-null  int64  \n",
      " 5   Work_accident          14999 non-null  int64  \n",
      " 6   left                   14999 non-null  int64  \n",
      " 7   promotion_last_5years  14999 non-null  int64  \n",
      " 8   Departments            14999 non-null  object \n",
      " 9   salary                 14999 non-null  object \n",
      "dtypes: float64(2), int64(6), object(2)\n",
      "memory usage: 1.1+ MB\n"
     ]
    }
   ],
   "source": [
    "df.info()"
   ]
  },
  {
   "cell_type": "code",
   "execution_count": 4,
   "metadata": {},
   "outputs": [
    {
     "data": {
      "text/plain": [
       "((14999, 10), 149990)"
      ]
     },
     "execution_count": 4,
     "metadata": {},
     "output_type": "execute_result"
    }
   ],
   "source": [
    "df.shape, df.size"
   ]
  },
  {
   "cell_type": "code",
   "execution_count": 5,
   "metadata": {},
   "outputs": [
    {
     "data": {
      "text/plain": [
       "0"
      ]
     },
     "execution_count": 5,
     "metadata": {},
     "output_type": "execute_result"
    }
   ],
   "source": [
    "df.isnull().sum().sum()"
   ]
  },
  {
   "cell_type": "code",
   "execution_count": 6,
   "metadata": {},
   "outputs": [
    {
     "data": {
      "text/plain": [
       "3008"
      ]
     },
     "execution_count": 6,
     "metadata": {},
     "output_type": "execute_result"
    }
   ],
   "source": [
    "df.duplicated().sum()"
   ]
  },
  {
   "cell_type": "code",
   "execution_count": 7,
   "metadata": {},
   "outputs": [
    {
     "data": {
      "text/html": [
       "<div>\n",
       "<style scoped>\n",
       "    .dataframe tbody tr th:only-of-type {\n",
       "        vertical-align: middle;\n",
       "    }\n",
       "\n",
       "    .dataframe tbody tr th {\n",
       "        vertical-align: top;\n",
       "    }\n",
       "\n",
       "    .dataframe thead th {\n",
       "        text-align: right;\n",
       "    }\n",
       "</style>\n",
       "<table border=\"1\" class=\"dataframe\">\n",
       "  <thead>\n",
       "    <tr style=\"text-align: right;\">\n",
       "      <th></th>\n",
       "      <th>satisfaction_level</th>\n",
       "      <th>last_evaluation</th>\n",
       "      <th>number_project</th>\n",
       "      <th>average_montly_hours</th>\n",
       "      <th>time_spend_company</th>\n",
       "      <th>Work_accident</th>\n",
       "      <th>left</th>\n",
       "      <th>promotion_last_5years</th>\n",
       "      <th>Departments</th>\n",
       "      <th>salary</th>\n",
       "    </tr>\n",
       "  </thead>\n",
       "  <tbody>\n",
       "    <tr>\n",
       "      <th>0</th>\n",
       "      <td>0.380</td>\n",
       "      <td>0.530</td>\n",
       "      <td>2</td>\n",
       "      <td>157</td>\n",
       "      <td>3</td>\n",
       "      <td>0</td>\n",
       "      <td>1</td>\n",
       "      <td>0</td>\n",
       "      <td>sales</td>\n",
       "      <td>low</td>\n",
       "    </tr>\n",
       "    <tr>\n",
       "      <th>242</th>\n",
       "      <td>0.380</td>\n",
       "      <td>0.530</td>\n",
       "      <td>2</td>\n",
       "      <td>156</td>\n",
       "      <td>3</td>\n",
       "      <td>0</td>\n",
       "      <td>1</td>\n",
       "      <td>0</td>\n",
       "      <td>sales</td>\n",
       "      <td>low</td>\n",
       "    </tr>\n",
       "    <tr>\n",
       "      <th>658</th>\n",
       "      <td>0.380</td>\n",
       "      <td>0.530</td>\n",
       "      <td>2</td>\n",
       "      <td>146</td>\n",
       "      <td>3</td>\n",
       "      <td>0</td>\n",
       "      <td>1</td>\n",
       "      <td>0</td>\n",
       "      <td>support</td>\n",
       "      <td>low</td>\n",
       "    </tr>\n",
       "    <tr>\n",
       "      <th>12000</th>\n",
       "      <td>0.380</td>\n",
       "      <td>0.530</td>\n",
       "      <td>2</td>\n",
       "      <td>157</td>\n",
       "      <td>3</td>\n",
       "      <td>0</td>\n",
       "      <td>1</td>\n",
       "      <td>0</td>\n",
       "      <td>sales</td>\n",
       "      <td>low</td>\n",
       "    </tr>\n",
       "    <tr>\n",
       "      <th>12242</th>\n",
       "      <td>0.380</td>\n",
       "      <td>0.530</td>\n",
       "      <td>2</td>\n",
       "      <td>156</td>\n",
       "      <td>3</td>\n",
       "      <td>0</td>\n",
       "      <td>1</td>\n",
       "      <td>0</td>\n",
       "      <td>sales</td>\n",
       "      <td>low</td>\n",
       "    </tr>\n",
       "    <tr>\n",
       "      <th>12658</th>\n",
       "      <td>0.380</td>\n",
       "      <td>0.530</td>\n",
       "      <td>2</td>\n",
       "      <td>146</td>\n",
       "      <td>3</td>\n",
       "      <td>0</td>\n",
       "      <td>1</td>\n",
       "      <td>0</td>\n",
       "      <td>support</td>\n",
       "      <td>low</td>\n",
       "    </tr>\n",
       "    <tr>\n",
       "      <th>14211</th>\n",
       "      <td>0.380</td>\n",
       "      <td>0.530</td>\n",
       "      <td>2</td>\n",
       "      <td>157</td>\n",
       "      <td>3</td>\n",
       "      <td>0</td>\n",
       "      <td>1</td>\n",
       "      <td>0</td>\n",
       "      <td>sales</td>\n",
       "      <td>low</td>\n",
       "    </tr>\n",
       "    <tr>\n",
       "      <th>14453</th>\n",
       "      <td>0.380</td>\n",
       "      <td>0.530</td>\n",
       "      <td>2</td>\n",
       "      <td>156</td>\n",
       "      <td>3</td>\n",
       "      <td>0</td>\n",
       "      <td>1</td>\n",
       "      <td>0</td>\n",
       "      <td>sales</td>\n",
       "      <td>low</td>\n",
       "    </tr>\n",
       "    <tr>\n",
       "      <th>14869</th>\n",
       "      <td>0.380</td>\n",
       "      <td>0.530</td>\n",
       "      <td>2</td>\n",
       "      <td>146</td>\n",
       "      <td>3</td>\n",
       "      <td>0</td>\n",
       "      <td>1</td>\n",
       "      <td>0</td>\n",
       "      <td>support</td>\n",
       "      <td>low</td>\n",
       "    </tr>\n",
       "  </tbody>\n",
       "</table>\n",
       "</div>"
      ],
      "text/plain": [
       "       satisfaction_level  last_evaluation  number_project  \\\n",
       "0                   0.380            0.530               2   \n",
       "242                 0.380            0.530               2   \n",
       "658                 0.380            0.530               2   \n",
       "12000               0.380            0.530               2   \n",
       "12242               0.380            0.530               2   \n",
       "12658               0.380            0.530               2   \n",
       "14211               0.380            0.530               2   \n",
       "14453               0.380            0.530               2   \n",
       "14869               0.380            0.530               2   \n",
       "\n",
       "       average_montly_hours  time_spend_company  Work_accident  left  \\\n",
       "0                       157                   3              0     1   \n",
       "242                     156                   3              0     1   \n",
       "658                     146                   3              0     1   \n",
       "12000                   157                   3              0     1   \n",
       "12242                   156                   3              0     1   \n",
       "12658                   146                   3              0     1   \n",
       "14211                   157                   3              0     1   \n",
       "14453                   156                   3              0     1   \n",
       "14869                   146                   3              0     1   \n",
       "\n",
       "       promotion_last_5years Departments  salary  \n",
       "0                          0        sales    low  \n",
       "242                        0        sales    low  \n",
       "658                        0      support    low  \n",
       "12000                      0        sales    low  \n",
       "12242                      0        sales    low  \n",
       "12658                      0      support    low  \n",
       "14211                      0        sales    low  \n",
       "14453                      0        sales    low  \n",
       "14869                      0      support    low  "
      ]
     },
     "execution_count": 7,
     "metadata": {},
     "output_type": "execute_result"
    }
   ],
   "source": [
    "# SAMPLE\n",
    "df[(df.duplicated(keep=False)) & (df.satisfaction_level==0.380) & (df.last_evaluation==0.530)]\n",
    "\n",
    "# There isn't any discriminating feature for observations. So, duplicated rows may belong to different employees."
   ]
  },
  {
   "cell_type": "code",
   "execution_count": 8,
   "metadata": {},
   "outputs": [
    {
     "data": {
      "text/plain": [
       "1    1580\n",
       "0    1428\n",
       "Name: left, dtype: int64"
      ]
     },
     "execution_count": 8,
     "metadata": {},
     "output_type": "execute_result"
    }
   ],
   "source": [
    "df[df.duplicated()].left.value_counts()"
   ]
  },
  {
   "cell_type": "code",
   "execution_count": 9,
   "metadata": {},
   "outputs": [],
   "source": [
    "df.drop_duplicates(inplace=True)"
   ]
  },
  {
   "cell_type": "code",
   "execution_count": 10,
   "metadata": {},
   "outputs": [
    {
     "data": {
      "text/plain": [
       "(11991, 10)"
      ]
     },
     "execution_count": 10,
     "metadata": {},
     "output_type": "execute_result"
    }
   ],
   "source": [
    "df.shape"
   ]
  },
  {
   "cell_type": "code",
   "execution_count": 11,
   "metadata": {},
   "outputs": [
    {
     "data": {
      "text/plain": [
       "satisfaction_level        92\n",
       "last_evaluation           65\n",
       "number_project             6\n",
       "average_montly_hours     215\n",
       "time_spend_company         8\n",
       "Work_accident              2\n",
       "left                       2\n",
       "promotion_last_5years      2\n",
       "Departments               10\n",
       "salary                     3\n",
       "dtype: int64"
      ]
     },
     "execution_count": 11,
     "metadata": {},
     "output_type": "execute_result"
    }
   ],
   "source": [
    "df.nunique()"
   ]
  },
  {
   "cell_type": "code",
   "execution_count": 12,
   "metadata": {},
   "outputs": [
    {
     "data": {
      "text/html": [
       "<div>\n",
       "<style scoped>\n",
       "    .dataframe tbody tr th:only-of-type {\n",
       "        vertical-align: middle;\n",
       "    }\n",
       "\n",
       "    .dataframe tbody tr th {\n",
       "        vertical-align: top;\n",
       "    }\n",
       "\n",
       "    .dataframe thead th {\n",
       "        text-align: right;\n",
       "    }\n",
       "</style>\n",
       "<table border=\"1\" class=\"dataframe\">\n",
       "  <thead>\n",
       "    <tr style=\"text-align: right;\">\n",
       "      <th></th>\n",
       "      <th>satisfaction_level</th>\n",
       "      <th>last_evaluation</th>\n",
       "      <th>number_project</th>\n",
       "      <th>average_montly_hours</th>\n",
       "      <th>time_spend_company</th>\n",
       "      <th>Work_accident</th>\n",
       "      <th>left</th>\n",
       "      <th>promotion_last_5years</th>\n",
       "    </tr>\n",
       "  </thead>\n",
       "  <tbody>\n",
       "    <tr>\n",
       "      <th>count</th>\n",
       "      <td>11991.000</td>\n",
       "      <td>11991.000</td>\n",
       "      <td>11991.000</td>\n",
       "      <td>11991.000</td>\n",
       "      <td>11991.000</td>\n",
       "      <td>11991.000</td>\n",
       "      <td>11991.000</td>\n",
       "      <td>11991.000</td>\n",
       "    </tr>\n",
       "    <tr>\n",
       "      <th>mean</th>\n",
       "      <td>0.630</td>\n",
       "      <td>0.717</td>\n",
       "      <td>3.803</td>\n",
       "      <td>200.474</td>\n",
       "      <td>3.365</td>\n",
       "      <td>0.154</td>\n",
       "      <td>0.166</td>\n",
       "      <td>0.017</td>\n",
       "    </tr>\n",
       "    <tr>\n",
       "      <th>std</th>\n",
       "      <td>0.241</td>\n",
       "      <td>0.168</td>\n",
       "      <td>1.163</td>\n",
       "      <td>48.728</td>\n",
       "      <td>1.330</td>\n",
       "      <td>0.361</td>\n",
       "      <td>0.372</td>\n",
       "      <td>0.129</td>\n",
       "    </tr>\n",
       "    <tr>\n",
       "      <th>min</th>\n",
       "      <td>0.090</td>\n",
       "      <td>0.360</td>\n",
       "      <td>2.000</td>\n",
       "      <td>96.000</td>\n",
       "      <td>2.000</td>\n",
       "      <td>0.000</td>\n",
       "      <td>0.000</td>\n",
       "      <td>0.000</td>\n",
       "    </tr>\n",
       "    <tr>\n",
       "      <th>25%</th>\n",
       "      <td>0.480</td>\n",
       "      <td>0.570</td>\n",
       "      <td>3.000</td>\n",
       "      <td>157.000</td>\n",
       "      <td>3.000</td>\n",
       "      <td>0.000</td>\n",
       "      <td>0.000</td>\n",
       "      <td>0.000</td>\n",
       "    </tr>\n",
       "    <tr>\n",
       "      <th>50%</th>\n",
       "      <td>0.660</td>\n",
       "      <td>0.720</td>\n",
       "      <td>4.000</td>\n",
       "      <td>200.000</td>\n",
       "      <td>3.000</td>\n",
       "      <td>0.000</td>\n",
       "      <td>0.000</td>\n",
       "      <td>0.000</td>\n",
       "    </tr>\n",
       "    <tr>\n",
       "      <th>75%</th>\n",
       "      <td>0.820</td>\n",
       "      <td>0.860</td>\n",
       "      <td>5.000</td>\n",
       "      <td>243.000</td>\n",
       "      <td>4.000</td>\n",
       "      <td>0.000</td>\n",
       "      <td>0.000</td>\n",
       "      <td>0.000</td>\n",
       "    </tr>\n",
       "    <tr>\n",
       "      <th>max</th>\n",
       "      <td>1.000</td>\n",
       "      <td>1.000</td>\n",
       "      <td>7.000</td>\n",
       "      <td>310.000</td>\n",
       "      <td>10.000</td>\n",
       "      <td>1.000</td>\n",
       "      <td>1.000</td>\n",
       "      <td>1.000</td>\n",
       "    </tr>\n",
       "  </tbody>\n",
       "</table>\n",
       "</div>"
      ],
      "text/plain": [
       "       satisfaction_level  last_evaluation  number_project  \\\n",
       "count           11991.000        11991.000       11991.000   \n",
       "mean                0.630            0.717           3.803   \n",
       "std                 0.241            0.168           1.163   \n",
       "min                 0.090            0.360           2.000   \n",
       "25%                 0.480            0.570           3.000   \n",
       "50%                 0.660            0.720           4.000   \n",
       "75%                 0.820            0.860           5.000   \n",
       "max                 1.000            1.000           7.000   \n",
       "\n",
       "       average_montly_hours  time_spend_company  Work_accident      left  \\\n",
       "count             11991.000           11991.000      11991.000 11991.000   \n",
       "mean                200.474               3.365          0.154     0.166   \n",
       "std                  48.728               1.330          0.361     0.372   \n",
       "min                  96.000               2.000          0.000     0.000   \n",
       "25%                 157.000               3.000          0.000     0.000   \n",
       "50%                 200.000               3.000          0.000     0.000   \n",
       "75%                 243.000               4.000          0.000     0.000   \n",
       "max                 310.000              10.000          1.000     1.000   \n",
       "\n",
       "       promotion_last_5years  \n",
       "count              11991.000  \n",
       "mean                   0.017  \n",
       "std                    0.129  \n",
       "min                    0.000  \n",
       "25%                    0.000  \n",
       "50%                    0.000  \n",
       "75%                    0.000  \n",
       "max                    1.000  "
      ]
     },
     "execution_count": 12,
     "metadata": {},
     "output_type": "execute_result"
    }
   ],
   "source": [
    "df.describe()"
   ]
  },
  {
   "cell_type": "code",
   "execution_count": 13,
   "metadata": {},
   "outputs": [
    {
     "data": {
      "text/plain": [
       "Index(['satisfaction_level', 'last_evaluation', 'number_project',\n",
       "       'average_montly_hours', 'time_spend_company', 'Work_accident', 'left',\n",
       "       'promotion_last_5years', 'Departments ', 'salary'],\n",
       "      dtype='object')"
      ]
     },
     "execution_count": 13,
     "metadata": {},
     "output_type": "execute_result"
    }
   ],
   "source": [
    "df.columns"
   ]
  },
  {
   "cell_type": "code",
   "execution_count": 14,
   "metadata": {},
   "outputs": [],
   "source": [
    "df.columns = df.columns.str.lower().str.strip()"
   ]
  },
  {
   "cell_type": "code",
   "execution_count": 15,
   "metadata": {},
   "outputs": [],
   "source": [
    "df = df.iloc[:, [0,1,2,3,4,5,7,8,9,6]]"
   ]
  },
  {
   "cell_type": "code",
   "execution_count": 16,
   "metadata": {},
   "outputs": [
    {
     "data": {
      "text/html": [
       "<div>\n",
       "<style scoped>\n",
       "    .dataframe tbody tr th:only-of-type {\n",
       "        vertical-align: middle;\n",
       "    }\n",
       "\n",
       "    .dataframe tbody tr th {\n",
       "        vertical-align: top;\n",
       "    }\n",
       "\n",
       "    .dataframe thead th {\n",
       "        text-align: right;\n",
       "    }\n",
       "</style>\n",
       "<table border=\"1\" class=\"dataframe\">\n",
       "  <thead>\n",
       "    <tr style=\"text-align: right;\">\n",
       "      <th></th>\n",
       "      <th>satisfaction_level</th>\n",
       "      <th>last_evaluation</th>\n",
       "      <th>number_project</th>\n",
       "      <th>average_montly_hours</th>\n",
       "      <th>time_spend_company</th>\n",
       "      <th>work_accident</th>\n",
       "      <th>promotion_last_5years</th>\n",
       "      <th>departments</th>\n",
       "      <th>salary</th>\n",
       "      <th>left</th>\n",
       "    </tr>\n",
       "  </thead>\n",
       "  <tbody>\n",
       "    <tr>\n",
       "      <th>0</th>\n",
       "      <td>0.380</td>\n",
       "      <td>0.530</td>\n",
       "      <td>2</td>\n",
       "      <td>157</td>\n",
       "      <td>3</td>\n",
       "      <td>0</td>\n",
       "      <td>0</td>\n",
       "      <td>sales</td>\n",
       "      <td>low</td>\n",
       "      <td>1</td>\n",
       "    </tr>\n",
       "    <tr>\n",
       "      <th>1</th>\n",
       "      <td>0.800</td>\n",
       "      <td>0.860</td>\n",
       "      <td>5</td>\n",
       "      <td>262</td>\n",
       "      <td>6</td>\n",
       "      <td>0</td>\n",
       "      <td>0</td>\n",
       "      <td>sales</td>\n",
       "      <td>medium</td>\n",
       "      <td>1</td>\n",
       "    </tr>\n",
       "    <tr>\n",
       "      <th>2</th>\n",
       "      <td>0.110</td>\n",
       "      <td>0.880</td>\n",
       "      <td>7</td>\n",
       "      <td>272</td>\n",
       "      <td>4</td>\n",
       "      <td>0</td>\n",
       "      <td>0</td>\n",
       "      <td>sales</td>\n",
       "      <td>medium</td>\n",
       "      <td>1</td>\n",
       "    </tr>\n",
       "    <tr>\n",
       "      <th>3</th>\n",
       "      <td>0.720</td>\n",
       "      <td>0.870</td>\n",
       "      <td>5</td>\n",
       "      <td>223</td>\n",
       "      <td>5</td>\n",
       "      <td>0</td>\n",
       "      <td>0</td>\n",
       "      <td>sales</td>\n",
       "      <td>low</td>\n",
       "      <td>1</td>\n",
       "    </tr>\n",
       "    <tr>\n",
       "      <th>4</th>\n",
       "      <td>0.370</td>\n",
       "      <td>0.520</td>\n",
       "      <td>2</td>\n",
       "      <td>159</td>\n",
       "      <td>3</td>\n",
       "      <td>0</td>\n",
       "      <td>0</td>\n",
       "      <td>sales</td>\n",
       "      <td>low</td>\n",
       "      <td>1</td>\n",
       "    </tr>\n",
       "  </tbody>\n",
       "</table>\n",
       "</div>"
      ],
      "text/plain": [
       "   satisfaction_level  last_evaluation  number_project  average_montly_hours  \\\n",
       "0               0.380            0.530               2                   157   \n",
       "1               0.800            0.860               5                   262   \n",
       "2               0.110            0.880               7                   272   \n",
       "3               0.720            0.870               5                   223   \n",
       "4               0.370            0.520               2                   159   \n",
       "\n",
       "   time_spend_company  work_accident  promotion_last_5years departments  \\\n",
       "0                   3              0                      0       sales   \n",
       "1                   6              0                      0       sales   \n",
       "2                   4              0                      0       sales   \n",
       "3                   5              0                      0       sales   \n",
       "4                   3              0                      0       sales   \n",
       "\n",
       "   salary  left  \n",
       "0     low     1  \n",
       "1  medium     1  \n",
       "2  medium     1  \n",
       "3     low     1  \n",
       "4     low     1  "
      ]
     },
     "execution_count": 16,
     "metadata": {},
     "output_type": "execute_result"
    }
   ],
   "source": [
    "df.head()"
   ]
  },
  {
   "cell_type": "markdown",
   "metadata": {
    "id": "wc8t0m9u2sl2"
   },
   "source": [
    "### Data Insights\n",
    "\n",
    "In the given dataset, you have two types of employee one who stayed and another who left the company. So, you can divide data into two groups and compare their characteristics. Here, you can find the average of both the groups using groupby() and mean() function."
   ]
  },
  {
   "cell_type": "code",
   "execution_count": null,
   "metadata": {},
   "outputs": [],
   "source": []
  },
  {
   "cell_type": "markdown",
   "metadata": {
    "id": "0PsO9Iew2smG"
   },
   "source": [
    "## 2. Data Visualization\n",
    "\n",
    "You can search for answers to the following questions using data visualization methods. Based on these responses, you can develop comments about the factors that cause churn.\n",
    "- How does the promotion status affect employee churn?\n",
    "- How does years of experience affect employee churn?\n",
    "- How does workload affect employee churn?\n",
    "- How does the salary level affect employee churn?"
   ]
  },
  {
   "cell_type": "markdown",
   "metadata": {
    "id": "qRQhFwtq2smI"
   },
   "source": [
    "### Employees Left\n",
    "\n",
    "Let's check how many employees were left?\n",
    "Here, you can plot a bar graph using Matplotlib. The bar graph is suitable for showing discrete variable counts."
   ]
  },
  {
   "cell_type": "code",
   "execution_count": null,
   "metadata": {},
   "outputs": [],
   "source": []
  },
  {
   "cell_type": "markdown",
   "metadata": {
    "id": "Vn6NHSZE2smY"
   },
   "source": [
    "### Number of Projects\n",
    "\n",
    "Similarly, you can also plot a bar graph to count the number of employees deployed on how many projects?"
   ]
  },
  {
   "cell_type": "code",
   "execution_count": null,
   "metadata": {},
   "outputs": [],
   "source": []
  },
  {
   "cell_type": "markdown",
   "metadata": {
    "id": "48X9SO4v2smj"
   },
   "source": [
    "### Time Spent in Company\n",
    "\n",
    "Similarly, you can also plot a bar graph to count the number of employees have based on how much experience?\n"
   ]
  },
  {
   "cell_type": "code",
   "execution_count": null,
   "metadata": {},
   "outputs": [],
   "source": []
  },
  {
   "cell_type": "markdown",
   "metadata": {
    "id": "VEbtBv3q2smq"
   },
   "source": [
    "### Subplots of Features\n",
    "\n",
    "You can use the methods of the matplotlib."
   ]
  },
  {
   "cell_type": "code",
   "execution_count": null,
   "metadata": {},
   "outputs": [],
   "source": []
  },
  {
   "cell_type": "markdown",
   "metadata": {
    "id": "36OyDJyx2sm2"
   },
   "source": [
    "## 3. Data Pre-Processing"
   ]
  },
  {
   "cell_type": "markdown",
   "metadata": {
    "id": "L8-SVBoq2snA"
   },
   "source": [
    "#### Label Encoding\n",
    "\n",
    "Lots of machine learning algorithms require numerical input data, so you need to represent categorical columns in a numerical column. In order to encode this data, you could map each value to a number. e.g. Salary column's value can be represented as low:0, medium:1, and high:2. This process is known as label encoding, and sklearn conveniently will do this for you using LabelEncoder.\n",
    "\n"
   ]
  },
  {
   "cell_type": "code",
   "execution_count": null,
   "metadata": {},
   "outputs": [],
   "source": []
  },
  {
   "cell_type": "markdown",
   "metadata": {
    "id": "iN94C5P42sm4"
   },
   "source": [
    "#### Scaling\n",
    "\n",
    "Some machine learning algorithms are sensitive to feature scaling while others are virtually invariant to it. Machine learning algorithms like linear regression, logistic regression, neural network, etc. that use gradient descent as an optimization technique require data to be scaled. Also distance algorithms like KNN, K-means, and SVM are most affected by the range of features. This is because behind the scenes they are using distances between data points to determine their similarity.\n",
    "\n",
    "Scaling Types:\n",
    "- Normalization: Normalization is a scaling technique in which values are shifted and rescaled so that they end up ranging between 0 and 1. It is also known as Min-Max scaling.\n",
    "\n",
    "- Standardization: Standardization is another scaling technique where the values are centered around the mean with a unit standard deviation. This means that the mean of the attribute becomes zero and the resultant distribution has a unit standard deviation.\n",
    "\n",
    "    "
   ]
  },
  {
   "cell_type": "code",
   "execution_count": null,
   "metadata": {},
   "outputs": [],
   "source": []
  },
  {
   "cell_type": "markdown",
   "metadata": {
    "id": "c1Gp2f7q2snF"
   },
   "source": [
    "## 4. Cluster Analysis\n",
    "\n",
    "- Cluster analysis or clustering is the task of grouping a set of objects in such a way that objects in the same group (called a cluster) are more similar (in some sense) to each other than to those in other groups (clusters). It is a main task of exploratory data mining, and a common technique for statistical data analysis, used in many fields, including pattern recognition, image analysis, information retrieval, bioinformatics, data compression, computer graphics and machine learning.\n",
    "\n",
    "    [Cluster Analysis](https://en.wikipedia.org/wiki/Cluster_analysis)\n",
    "\n",
    "    [Cluster Analysis2](https://realpython.com/k-means-clustering-python/)"
   ]
  },
  {
   "cell_type": "markdown",
   "metadata": {
    "id": "TWQx_bhw2snG"
   },
   "source": [
    "#### The Elbow Method\n",
    "\n",
    "- \"Elbow Method\" can be used to find the optimum number of clusters in cluster analysis. The elbow method is used to determine the optimal number of clusters in k-means clustering. The elbow method plots the value of the cost function produced by different values of k. If k increases, average distortion will decrease, each cluster will have fewer constituent instances, and the instances will be closer to their respective centroids. However, the improvements in average distortion will decline as k increases. The value of k at which improvement in distortion declines the most is called the elbow, at which we should stop dividing the data into further clusters.\n",
    "\n",
    "    [The Elbow Method](https://en.wikipedia.org/wiki/Elbow_method_(clustering)\n",
    "\n",
    "    [The Elbow Method2](https://medium.com/@mudgalvivek2911/machine-learning-clustering-elbow-method-4e8c2b404a5d)\n",
    "\n",
    "    [KMeans](https://towardsdatascience.com/understanding-k-means-clustering-in-machine-learning-6a6e67336aa1)\n",
    "\n",
    "Let's find out the groups of employees who left. You can observe that the most important factor for any employee to stay or leave is satisfaction and performance in the company. So let's bunch them in the group of people using cluster analysis."
   ]
  },
  {
   "cell_type": "code",
   "execution_count": null,
   "metadata": {},
   "outputs": [],
   "source": []
  },
  {
   "cell_type": "markdown",
   "metadata": {
    "id": "WpmbaABr2snN"
   },
   "source": [
    "## 5. Model Building"
   ]
  },
  {
   "cell_type": "code",
   "execution_count": 103,
   "metadata": {
    "id": "jMLD4mr32snH"
   },
   "outputs": [],
   "source": [
    "from sklearn.ensemble import RandomForestClassifier,GradientBoostingClassifier\n",
    "from sklearn.neighbors import KNeighborsClassifier\n",
    "\n",
    "from sklearn.compose import ColumnTransformer,make_column_transformer\n",
    "from sklearn.pipeline import Pipeline, make_pipeline\n",
    "from sklearn.preprocessing import MinMaxScaler,StandardScaler,RobustScaler,OrdinalEncoder,OneHotEncoder\n",
    "\n",
    "from sklearn.model_selection import train_test_split,cross_val_score,cross_validate,GridSearchCV\n",
    "\n",
    "from sklearn.metrics import confusion_matrix,classification_report,plot_confusion_matrix\n",
    "from sklearn.metrics import accuracy_score, f1_score,recall_score,precision_score\n",
    "from sklearn.metrics import average_precision_score,precision_recall_curve,plot_precision_recall_curve\n",
    "\n",
    "from yellowbrick.classifier import PrecisionRecallCurve\n",
    "from yellowbrick.classifier import ClassPredictionError"
   ]
  },
  {
   "cell_type": "code",
   "execution_count": 104,
   "metadata": {},
   "outputs": [],
   "source": [
    "def eval_metric(model, X_train, y_train, X_test, y_test):\n",
    "    \n",
    "    y_train_pred = model.predict(X_train)\n",
    "    y_pred = model.predict(X_test)\n",
    "    \n",
    "    print(\"Test_Set\")\n",
    "    print(confusion_matrix(y_test, y_pred))\n",
    "    print(classification_report(y_test, y_pred))\n",
    "    print()\n",
    "    print(\"Train_Set\")\n",
    "    print(confusion_matrix(y_train, y_train_pred))\n",
    "    print(classification_report(y_train, y_train_pred))"
   ]
  },
  {
   "cell_type": "markdown",
   "metadata": {
    "id": "pYsKmaZd2snO"
   },
   "source": [
    "### Split Data as Train and Test Set"
   ]
  },
  {
   "cell_type": "markdown",
   "metadata": {
    "id": "I6b_dTvA2snQ"
   },
   "source": [
    "Here, Dataset is broken into two parts in ratio of 70:30. It means 70% data will used for model training and 30% for model testing."
   ]
  },
  {
   "cell_type": "code",
   "execution_count": 105,
   "metadata": {
    "id": "S15Bpefl2snS"
   },
   "outputs": [],
   "source": [
    "X = df.drop('left', axis=1)\n",
    "y = df['left']"
   ]
  },
  {
   "cell_type": "code",
   "execution_count": 106,
   "metadata": {},
   "outputs": [],
   "source": [
    "X_train, X_test, y_train, y_test = train_test_split(X, y, stratify=y, test_size=0.3, random_state=101)"
   ]
  },
  {
   "cell_type": "code",
   "execution_count": 107,
   "metadata": {},
   "outputs": [
    {
     "name": "stdout",
     "output_type": "stream",
     "text": [
      "Train features shape :  (8393, 9)\n",
      "Train target shape   :  (8393,)\n",
      "Test features shape  :  (3598, 9)\n",
      "Test target shape    :  (3598,)\n"
     ]
    }
   ],
   "source": [
    "print(\"Train features shape : \", X_train.shape)\n",
    "print(\"Train target shape   : \", y_train.shape)\n",
    "print(\"Test features shape  : \", X_test.shape)\n",
    "print(\"Test target shape    : \", y_test.shape)"
   ]
  },
  {
   "cell_type": "markdown",
   "metadata": {
    "id": "Y4d55Vek2snX"
   },
   "source": [
    "<div class=\"alert alert-block alert-success\">\n",
    "    \n",
    "<b>Gradient Boosting Classifier</b>\n",
    "    \n",
    "</div>"
   ]
  },
  {
   "cell_type": "markdown",
   "metadata": {
    "id": "L8OkbOrC2snY"
   },
   "source": [
    "#### Model Building"
   ]
  },
  {
   "cell_type": "code",
   "execution_count": 108,
   "metadata": {},
   "outputs": [
    {
     "data": {
      "text/plain": [
       "Pipeline(steps=[('preprocessor',\n",
       "                 ColumnTransformer(remainder='passthrough',\n",
       "                                   transformers=[('encoder_nominal',\n",
       "                                                  OrdinalEncoder(),\n",
       "                                                  ['departments']),\n",
       "                                                 ('encoder_ordinal',\n",
       "                                                  OrdinalEncoder(categories=[['low',\n",
       "                                                                              'medium',\n",
       "                                                                              'high']]),\n",
       "                                                  ['salary'])])),\n",
       "                ('clf', GradientBoostingClassifier(random_state=42))])"
      ]
     },
     "execution_count": 108,
     "metadata": {},
     "output_type": "execute_result"
    }
   ],
   "source": [
    "# categorical features\n",
    "# cat_features = ['departments', 'salary']\n",
    "\n",
    "# you can use column transformer to do pre-processing all of dataframe's columns at the same time without doing it in pandas\n",
    "preprocessor = ColumnTransformer(transformers=[\n",
    "    ('encoder_nominal', OrdinalEncoder(), ['departments']),\n",
    "    ('encoder_ordinal', OrdinalEncoder(categories=[['low', 'medium', 'high']]), ['salary'])\n",
    "], remainder='passthrough')\n",
    "\n",
    "# pipeline chains steps together sequentially\n",
    "gbc_model = Pipeline(steps=[\n",
    "      ('preprocessor', preprocessor),\n",
    "      ('clf', GradientBoostingClassifier(random_state=42)) # clf for classifier\n",
    "])\n",
    "\n",
    "gbc_model.fit(X_train, y_train)"
   ]
  },
  {
   "cell_type": "code",
   "execution_count": 109,
   "metadata": {},
   "outputs": [
    {
     "name": "stdout",
     "output_type": "stream",
     "text": [
      "Test_Set\n",
      "[[2975   26]\n",
      " [  46  551]]\n",
      "              precision    recall  f1-score   support\n",
      "\n",
      "           0       0.98      0.99      0.99      3001\n",
      "           1       0.95      0.92      0.94       597\n",
      "\n",
      "    accuracy                           0.98      3598\n",
      "   macro avg       0.97      0.96      0.96      3598\n",
      "weighted avg       0.98      0.98      0.98      3598\n",
      "\n",
      "\n",
      "Train_Set\n",
      "[[6959   40]\n",
      " [  99 1295]]\n",
      "              precision    recall  f1-score   support\n",
      "\n",
      "           0       0.99      0.99      0.99      6999\n",
      "           1       0.97      0.93      0.95      1394\n",
      "\n",
      "    accuracy                           0.98      8393\n",
      "   macro avg       0.98      0.96      0.97      8393\n",
      "weighted avg       0.98      0.98      0.98      8393\n",
      "\n"
     ]
    }
   ],
   "source": [
    "eval_metric(gbc_model, X_train, y_train, X_test, y_test)"
   ]
  },
  {
   "cell_type": "code",
   "execution_count": 110,
   "metadata": {},
   "outputs": [
    {
     "data": {
      "text/plain": [
       "test_accuracy    0.981\n",
       "test_precision   0.963\n",
       "test_recall      0.922\n",
       "test_f1          0.942\n",
       "test_roc_auc     0.985\n",
       "dtype: float64"
      ]
     },
     "execution_count": 110,
     "metadata": {},
     "output_type": "execute_result"
    }
   ],
   "source": [
    "# CROSS VALIDATION\n",
    "\n",
    "model = Pipeline(steps=[\n",
    "      ('preprocessor', preprocessor),\n",
    "      ('classifier', GradientBoostingClassifier(random_state=42))\n",
    "])\n",
    "\n",
    "scores = cross_validate(model, X_train, y_train, scoring=['accuracy', 'precision', 'recall', 'f1', 'roc_auc'], cv=10)\n",
    "\n",
    "df_scores = pd.DataFrame(scores, index=range(1, 11))\n",
    "df_scores.mean()[2:]"
   ]
  },
  {
   "cell_type": "code",
   "execution_count": 111,
   "metadata": {},
   "outputs": [
    {
     "name": "stdout",
     "output_type": "stream",
     "text": [
      "Fitting 5 folds for each of 288 candidates, totalling 1440 fits\n",
      "Wall time: 6min 2s\n",
      "\n",
      " {'clf__learning_rate': 0.05, 'clf__max_depth': 6, 'clf__max_features': 4, 'clf__n_estimators': 128, 'clf__subsample': 1}\n",
      "\n",
      " Pipeline(steps=[('preprocessor',\n",
      "                 ColumnTransformer(remainder='passthrough',\n",
      "                                   transformers=[('encoder_nominal',\n",
      "                                                  OrdinalEncoder(),\n",
      "                                                  ['departments']),\n",
      "                                                 ('encoder_ordinal',\n",
      "                                                  OrdinalEncoder(categories=[['low',\n",
      "                                                                              'medium',\n",
      "                                                                              'high']]),\n",
      "                                                  ['salary'])])),\n",
      "                ('clf',\n",
      "                 GradientBoostingClassifier(learning_rate=0.05, max_depth=6,\n",
      "                                            max_features=4, n_estimators=128,\n",
      "                                            random_state=42, subsample=1))])\n",
      "\n",
      " Best Score : 0.9512041713603491\n"
     ]
    }
   ],
   "source": [
    "# GRID SEARCH\n",
    "\n",
    "model = Pipeline(steps=[\n",
    "    ('preprocessor', preprocessor),\n",
    "    ('clf', GradientBoostingClassifier(random_state=42))\n",
    "])\n",
    "\n",
    "param_grid = {'clf__n_estimators':[100, 128, 200], 'clf__max_depth': [3, 4, 5, 6], 'clf__subsample':[0.5, 1], \n",
    "              'clf__max_features' : [None, 3, 4, 5], 'clf__learning_rate': [0.05, 0.08, 0.1]} \n",
    "\n",
    "%time gbc_grid_model = GridSearchCV(model, param_grid, scoring='f1', cv=5, verbose=1, n_jobs=-1).fit(X_train, y_train)\n",
    "\n",
    "print('\\n', gbc_grid_model.best_params_)\n",
    "print('\\n', gbc_grid_model.best_estimator_)\n",
    "print('\\n', 'Best Score :', gbc_grid_model.best_score_)"
   ]
  },
  {
   "cell_type": "code",
   "execution_count": 112,
   "metadata": {},
   "outputs": [
    {
     "name": "stdout",
     "output_type": "stream",
     "text": [
      "Test_Set\n",
      "[[2993    8]\n",
      " [  46  551]]\n",
      "              precision    recall  f1-score   support\n",
      "\n",
      "           0       0.98      1.00      0.99      3001\n",
      "           1       0.99      0.92      0.95       597\n",
      "\n",
      "    accuracy                           0.98      3598\n",
      "   macro avg       0.99      0.96      0.97      3598\n",
      "weighted avg       0.99      0.98      0.98      3598\n",
      "\n",
      "\n",
      "Train_Set\n",
      "[[6989   10]\n",
      " [  82 1312]]\n",
      "              precision    recall  f1-score   support\n",
      "\n",
      "           0       0.99      1.00      0.99      6999\n",
      "           1       0.99      0.94      0.97      1394\n",
      "\n",
      "    accuracy                           0.99      8393\n",
      "   macro avg       0.99      0.97      0.98      8393\n",
      "weighted avg       0.99      0.99      0.99      8393\n",
      "\n"
     ]
    }
   ],
   "source": [
    "eval_metric(gbc_grid_model, X_train, y_train, X_test, y_test)"
   ]
  },
  {
   "cell_type": "code",
   "execution_count": 113,
   "metadata": {},
   "outputs": [],
   "source": [
    "gbc_model = Pipeline(steps=[('preprocessor',\n",
    "                 ColumnTransformer(remainder='passthrough',\n",
    "                                   transformers=[('encoder_nominal',\n",
    "                                                  OrdinalEncoder(),\n",
    "                                                  ['departments']),\n",
    "                                                 ('encoder_ordinal',\n",
    "                                                  OrdinalEncoder(categories=[['low',\n",
    "                                                                              'medium',\n",
    "                                                                              'high']]),\n",
    "                                                  ['salary'])])),\n",
    "                ('clf',\n",
    "                 GradientBoostingClassifier(learning_rate=0.05, max_depth=6,\n",
    "                                            max_features=4, n_estimators=128,\n",
    "                                            random_state=42, subsample=1))]).fit(X_train, y_train)"
   ]
  },
  {
   "cell_type": "markdown",
   "metadata": {
    "id": "VAiUMdtI2snk"
   },
   "source": [
    "#### Evaluating Model Performance"
   ]
  },
  {
   "cell_type": "markdown",
   "metadata": {
    "id": "92xg3rvR2snl"
   },
   "source": [
    "- Confusion Matrix : You can use scikit-learn metrics module for accuracy calculation. A Confusion matrix is an N x N matrix used for evaluating the performance of a classification model, where N is the number of target classes. The matrix compares the actual target values with those predicted by the machine learning model. This gives us a holistic view of how well our classification model is performing and what kinds of errors it is making.\n",
    "\n",
    "    [Confusion Matrix](https://www.analyticsvidhya.com/blog/2020/04/confusion-matrix-machine-learning/)"
   ]
  },
  {
   "cell_type": "markdown",
   "metadata": {
    "id": "S9VeChm62snm"
   },
   "source": [
    "- Yellowbrick: Yellowbrick is a suite of visualization and diagnostic tools that will enable quicker model selection. It’s a Python package that combines scikit-learn and matplotlib. Some of the more popular visualization tools include model selection, feature visualization, classification and regression visualization\n",
    "\n",
    "    [Yellowbrick](https://www.analyticsvidhya.com/blog/2018/05/yellowbrick-a-set-of-visualization-tools-to-accelerate-your-model-selection-process/)"
   ]
  },
  {
   "cell_type": "code",
   "execution_count": 114,
   "metadata": {},
   "outputs": [
    {
     "data": {
      "image/png": "[encoded data removed]",
      "text/plain": [
       "<Figure size 1008x432 with 2 Axes>"
      ]
     },
     "metadata": {},
     "output_type": "display_data"
    }
   ],
   "source": [
    "plt.figure(figsize=(14,6))\n",
    "\n",
    "y_pred = gbc_model.predict(X_test)\n",
    "cf_matrix = confusion_matrix(y_test, y_pred)\n",
    "\n",
    "group_names = ['True Negatives (TN)', 'False Positives (FP)\\n(Type I Error)', \n",
    "               'False Negatives (FN)\\n(Type II Error)', 'True Positives (TP)']\n",
    "group_counts = ['{0:0.0f}'.format(value) for value in cf_matrix.flatten()]\n",
    "group_percentages = ['{0:.2%}'.format(value) for value in cf_matrix.flatten()/np.sum(cf_matrix)]\n",
    "\n",
    "labels = [f'{v1}\\n{v2}\\n{v3}' for v1, v2, v3 in zip(group_names, group_counts, group_percentages)]\n",
    "\n",
    "labels = np.asarray(labels).reshape(2, 2)\n",
    "\n",
    "ax = sns.heatmap(cf_matrix, annot=labels, fmt=\"\", annot_kws={'size': 13}, cmap='viridis')\n",
    "ax.set(xlabel='Predicted Class', ylabel = 'Actual Class');"
   ]
  },
  {
   "cell_type": "code",
   "execution_count": 115,
   "metadata": {},
   "outputs": [
    {
     "data": {
      "image/png": "[encoded data removed]",
      "text/plain": [
       "<Figure size 720x432 with 1 Axes>"
      ]
     },
     "metadata": {},
     "output_type": "display_data"
    }
   ],
   "source": [
    "visualizer = ClassPredictionError(gbc_model)\n",
    "\n",
    "visualizer.fit(X_train, y_train)\n",
    "visualizer.score(X_test, y_test)\n",
    "\n",
    "visualizer.poof();"
   ]
  },
  {
   "cell_type": "code",
   "execution_count": 116,
   "metadata": {},
   "outputs": [
    {
     "data": {
      "image/png": "[encoded data removed]",
      "text/plain": [
       "<Figure size 720x432 with 1 Axes>"
      ]
     },
     "metadata": {},
     "output_type": "display_data"
    }
   ],
   "source": [
    "viz = PrecisionRecallCurve(gbc_model)\n",
    "\n",
    "viz.fit(X_train, y_train)\n",
    "viz.score(X_test, y_test)\n",
    "viz.show();"
   ]
  },
  {
   "cell_type": "code",
   "execution_count": 117,
   "metadata": {},
   "outputs": [
    {
     "data": {
      "text/plain": [
       "0.9682260420261816"
      ]
     },
     "execution_count": 117,
     "metadata": {},
     "output_type": "execute_result"
    }
   ],
   "source": [
    "y_pred_proba = gbc_model.predict_proba(X_test)\n",
    "average_precision_score(y_test, y_pred_proba[:,1])"
   ]
  },
  {
   "cell_type": "markdown",
   "metadata": {},
   "source": [
    "#### Feature Importance"
   ]
  },
  {
   "cell_type": "code",
   "execution_count": 118,
   "metadata": {},
   "outputs": [
    {
     "data": {
      "text/plain": [
       "{'preprocessor': ColumnTransformer(remainder='passthrough',\n",
       "                   transformers=[('encoder_nominal', OrdinalEncoder(),\n",
       "                                  ['departments']),\n",
       "                                 ('encoder_ordinal',\n",
       "                                  OrdinalEncoder(categories=[['low', 'medium',\n",
       "                                                              'high']]),\n",
       "                                  ['salary'])]),\n",
       " 'clf': GradientBoostingClassifier(learning_rate=0.05, max_depth=6, max_features=4,\n",
       "                            n_estimators=128, random_state=42, subsample=1)}"
      ]
     },
     "execution_count": 118,
     "metadata": {},
     "output_type": "execute_result"
    }
   ],
   "source": [
    "gbc_model.named_steps"
   ]
  },
  {
   "cell_type": "code",
   "execution_count": 119,
   "metadata": {},
   "outputs": [
    {
     "data": {
      "text/html": [
       "<div>\n",
       "<style scoped>\n",
       "    .dataframe tbody tr th:only-of-type {\n",
       "        vertical-align: middle;\n",
       "    }\n",
       "\n",
       "    .dataframe tbody tr th {\n",
       "        vertical-align: top;\n",
       "    }\n",
       "\n",
       "    .dataframe thead th {\n",
       "        text-align: right;\n",
       "    }\n",
       "</style>\n",
       "<table border=\"1\" class=\"dataframe\">\n",
       "  <thead>\n",
       "    <tr style=\"text-align: right;\">\n",
       "      <th></th>\n",
       "      <th>Importance</th>\n",
       "    </tr>\n",
       "  </thead>\n",
       "  <tbody>\n",
       "    <tr>\n",
       "      <th>number_project</th>\n",
       "      <td>0.366</td>\n",
       "    </tr>\n",
       "    <tr>\n",
       "      <th>time_spend_company</th>\n",
       "      <td>0.184</td>\n",
       "    </tr>\n",
       "    <tr>\n",
       "      <th>promotion_last_5years</th>\n",
       "      <td>0.183</td>\n",
       "    </tr>\n",
       "    <tr>\n",
       "      <th>work_accident</th>\n",
       "      <td>0.130</td>\n",
       "    </tr>\n",
       "    <tr>\n",
       "      <th>average_montly_hours</th>\n",
       "      <td>0.128</td>\n",
       "    </tr>\n",
       "    <tr>\n",
       "      <th>departments</th>\n",
       "      <td>0.003</td>\n",
       "    </tr>\n",
       "    <tr>\n",
       "      <th>last_evaluation</th>\n",
       "      <td>0.003</td>\n",
       "    </tr>\n",
       "    <tr>\n",
       "      <th>satisfaction_level</th>\n",
       "      <td>0.003</td>\n",
       "    </tr>\n",
       "    <tr>\n",
       "      <th>salary</th>\n",
       "      <td>0.000</td>\n",
       "    </tr>\n",
       "  </tbody>\n",
       "</table>\n",
       "</div>"
      ],
      "text/plain": [
       "                       Importance\n",
       "number_project              0.366\n",
       "time_spend_company          0.184\n",
       "promotion_last_5years       0.183\n",
       "work_accident               0.130\n",
       "average_montly_hours        0.128\n",
       "departments                 0.003\n",
       "last_evaluation             0.003\n",
       "satisfaction_level          0.003\n",
       "salary                      0.000"
      ]
     },
     "execution_count": 119,
     "metadata": {},
     "output_type": "execute_result"
    }
   ],
   "source": [
    "pd.DataFrame(gbc_model.named_steps['clf'].feature_importances_, index=X_train.columns, columns=['Importance']). \\\n",
    "             sort_values('Importance', ascending=False)"
   ]
  },
  {
   "cell_type": "code",
   "execution_count": 120,
   "metadata": {},
   "outputs": [
    {
     "data": {
      "image/png": "[encoded data removed]",
      "text/plain": [
       "<Figure size 700x400 with 1 Axes>"
      ]
     },
     "metadata": {},
     "output_type": "display_data"
    },
    {
     "data": {
      "text/plain": [
       "<AxesSubplot:title={'center':'Feature Importances of 9 Features using GradientBoostingClassifier'}, xlabel='feature importance'>"
      ]
     },
     "execution_count": 120,
     "metadata": {},
     "output_type": "execute_result"
    }
   ],
   "source": [
    "from yellowbrick.model_selection import FeatureImportances\n",
    "from yellowbrick.features import RadViz\n",
    "\n",
    "viz = FeatureImportances(gbc_model.named_steps['clf'], relative=False)\n",
    "visualizer = RadViz(size=(700, 400))\n",
    "viz.fit(X_train, y_train)\n",
    "viz.show()"
   ]
  },
  {
   "cell_type": "markdown",
   "metadata": {},
   "source": [
    "#### Scores"
   ]
  },
  {
   "cell_type": "code",
   "execution_count": 121,
   "metadata": {},
   "outputs": [],
   "source": [
    "y_pred = gbc_model.predict(X_test)\n",
    "y_pred_proba = gbc_model.predict_proba(X_test)\n",
    "\n",
    "gbc_accuracy = gbc_model.score(X_test, y_test) # accuracy_score(y_test, y_pred)\n",
    "gbc_precision = precision_score(y_test, y_pred)\n",
    "gbc_recall = recall_score(y_test, y_pred)\n",
    "gbc_f1 = f1_score(y_test, y_pred)\n",
    "gbc_precision_recall = average_precision_score(y_test, y_pred_proba[:,1])"
   ]
  },
  {
   "cell_type": "markdown",
   "metadata": {
    "id": "90HfPd4w2sn1"
   },
   "source": [
    "#### Prediction"
   ]
  },
  {
   "cell_type": "code",
   "execution_count": 122,
   "metadata": {},
   "outputs": [
    {
     "data": {
      "text/plain": [
       "Pipeline(steps=[('preprocessor',\n",
       "                 ColumnTransformer(remainder='passthrough',\n",
       "                                   transformers=[('encoder_nominal',\n",
       "                                                  OrdinalEncoder(),\n",
       "                                                  ['departments']),\n",
       "                                                 ('encoder_ordinal',\n",
       "                                                  OrdinalEncoder(categories=[['low',\n",
       "                                                                              'medium',\n",
       "                                                                              'high']]),\n",
       "                                                  ['salary'])])),\n",
       "                ('clf',\n",
       "                 GradientBoostingClassifier(learning_rate=0.05, max_depth=6,\n",
       "                                            max_features=4, n_estimators=128,\n",
       "                                            random_state=42, subsample=1))])"
      ]
     },
     "execution_count": 122,
     "metadata": {},
     "output_type": "execute_result"
    }
   ],
   "source": [
    "gbc_model.fit(X, y)"
   ]
  },
  {
   "cell_type": "code",
   "execution_count": 123,
   "metadata": {},
   "outputs": [],
   "source": [
    "# PREDICTION WITH PIPELINE"
   ]
  },
  {
   "cell_type": "code",
   "execution_count": 124,
   "metadata": {},
   "outputs": [],
   "source": [
    "x = pd.DataFrame({\n",
    "        'satisfaction_level': 0.5,\n",
    "        'last_evaluation': 0.7,\n",
    "        'number_project': 7,\n",
    "        'average_montly_hours': 12,\n",
    "        'time_spend_company': 0.5,\n",
    "        'work_accident': 0,\n",
    "        'promotion_last_5years': 0,\n",
    "        'departments': 'IT',\n",
    "        'salary': 'low'\n",
    "    }, index=[0])"
   ]
  },
  {
   "cell_type": "code",
   "execution_count": 125,
   "metadata": {},
   "outputs": [
    {
     "data": {
      "text/plain": [
       "array([1], dtype=int64)"
      ]
     },
     "execution_count": 125,
     "metadata": {},
     "output_type": "execute_result"
    }
   ],
   "source": [
    "gbc_model.predict(x)"
   ]
  },
  {
   "cell_type": "code",
   "execution_count": 126,
   "metadata": {},
   "outputs": [],
   "source": [
    "# PREDICTION WITH WIDGETS"
   ]
  },
  {
   "cell_type": "code",
   "execution_count": 127,
   "metadata": {},
   "outputs": [],
   "source": [
    "import ipywidgets as widgets\n",
    "from IPython.display import display"
   ]
  },
  {
   "cell_type": "code",
   "execution_count": 128,
   "metadata": {},
   "outputs": [
    {
     "data": {
      "text/plain": [
       "{'departments': ['sales',\n",
       "  'hr',\n",
       "  'support',\n",
       "  'IT',\n",
       "  'product_mng',\n",
       "  'RandD',\n",
       "  'technical',\n",
       "  'accounting',\n",
       "  'management',\n",
       "  'marketing'],\n",
       " 'salary': ['medium', 'low', 'high']}"
      ]
     },
     "execution_count": 128,
     "metadata": {},
     "output_type": "execute_result"
    }
   ],
   "source": [
    "{column: list(X_train[column].unique()) for column in X_train.select_dtypes('O').columns}"
   ]
  },
  {
   "cell_type": "code",
   "execution_count": 129,
   "metadata": {},
   "outputs": [
    {
     "data": {
      "text/html": [
       "<div>\n",
       "<style scoped>\n",
       "    .dataframe tbody tr th:only-of-type {\n",
       "        vertical-align: middle;\n",
       "    }\n",
       "\n",
       "    .dataframe tbody tr th {\n",
       "        vertical-align: top;\n",
       "    }\n",
       "\n",
       "    .dataframe thead th {\n",
       "        text-align: right;\n",
       "    }\n",
       "</style>\n",
       "<table border=\"1\" class=\"dataframe\">\n",
       "  <thead>\n",
       "    <tr style=\"text-align: right;\">\n",
       "      <th></th>\n",
       "      <th>satisfaction_level</th>\n",
       "      <th>last_evaluation</th>\n",
       "      <th>number_project</th>\n",
       "      <th>average_montly_hours</th>\n",
       "      <th>time_spend_company</th>\n",
       "      <th>work_accident</th>\n",
       "      <th>promotion_last_5years</th>\n",
       "      <th>departments</th>\n",
       "      <th>salary</th>\n",
       "    </tr>\n",
       "  </thead>\n",
       "  <tbody>\n",
       "    <tr>\n",
       "      <th>6581</th>\n",
       "      <td>0.990</td>\n",
       "      <td>0.540</td>\n",
       "      <td>4</td>\n",
       "      <td>236</td>\n",
       "      <td>4</td>\n",
       "      <td>0</td>\n",
       "      <td>0</td>\n",
       "      <td>sales</td>\n",
       "      <td>low</td>\n",
       "    </tr>\n",
       "    <tr>\n",
       "      <th>7115</th>\n",
       "      <td>0.900</td>\n",
       "      <td>0.640</td>\n",
       "      <td>4</td>\n",
       "      <td>217</td>\n",
       "      <td>3</td>\n",
       "      <td>0</td>\n",
       "      <td>0</td>\n",
       "      <td>sales</td>\n",
       "      <td>low</td>\n",
       "    </tr>\n",
       "    <tr>\n",
       "      <th>10836</th>\n",
       "      <td>0.680</td>\n",
       "      <td>0.490</td>\n",
       "      <td>3</td>\n",
       "      <td>178</td>\n",
       "      <td>3</td>\n",
       "      <td>1</td>\n",
       "      <td>0</td>\n",
       "      <td>RandD</td>\n",
       "      <td>low</td>\n",
       "    </tr>\n",
       "    <tr>\n",
       "      <th>10357</th>\n",
       "      <td>0.540</td>\n",
       "      <td>0.750</td>\n",
       "      <td>4</td>\n",
       "      <td>249</td>\n",
       "      <td>4</td>\n",
       "      <td>0</td>\n",
       "      <td>0</td>\n",
       "      <td>support</td>\n",
       "      <td>medium</td>\n",
       "    </tr>\n",
       "    <tr>\n",
       "      <th>5557</th>\n",
       "      <td>0.770</td>\n",
       "      <td>0.520</td>\n",
       "      <td>3</td>\n",
       "      <td>210</td>\n",
       "      <td>3</td>\n",
       "      <td>1</td>\n",
       "      <td>0</td>\n",
       "      <td>IT</td>\n",
       "      <td>high</td>\n",
       "    </tr>\n",
       "  </tbody>\n",
       "</table>\n",
       "</div>"
      ],
      "text/plain": [
       "       satisfaction_level  last_evaluation  number_project  \\\n",
       "6581                0.990            0.540               4   \n",
       "7115                0.900            0.640               4   \n",
       "10836               0.680            0.490               3   \n",
       "10357               0.540            0.750               4   \n",
       "5557                0.770            0.520               3   \n",
       "\n",
       "       average_montly_hours  time_spend_company  work_accident  \\\n",
       "6581                    236                   4              0   \n",
       "7115                    217                   3              0   \n",
       "10836                   178                   3              1   \n",
       "10357                   249                   4              0   \n",
       "5557                    210                   3              1   \n",
       "\n",
       "       promotion_last_5years departments  salary  \n",
       "6581                       0       sales     low  \n",
       "7115                       0       sales     low  \n",
       "10836                      0       RandD     low  \n",
       "10357                      0     support  medium  \n",
       "5557                       0          IT    high  "
      ]
     },
     "execution_count": 129,
     "metadata": {},
     "output_type": "execute_result"
    }
   ],
   "source": [
    "X_train.sample(5)"
   ]
  },
  {
   "cell_type": "code",
   "execution_count": 130,
   "metadata": {},
   "outputs": [
    {
     "data": {
      "text/html": [
       "<div>\n",
       "<style scoped>\n",
       "    .dataframe tbody tr th:only-of-type {\n",
       "        vertical-align: middle;\n",
       "    }\n",
       "\n",
       "    .dataframe tbody tr th {\n",
       "        vertical-align: top;\n",
       "    }\n",
       "\n",
       "    .dataframe thead th {\n",
       "        text-align: right;\n",
       "    }\n",
       "</style>\n",
       "<table border=\"1\" class=\"dataframe\">\n",
       "  <thead>\n",
       "    <tr style=\"text-align: right;\">\n",
       "      <th></th>\n",
       "      <th>satisfaction_level</th>\n",
       "      <th>last_evaluation</th>\n",
       "      <th>number_project</th>\n",
       "      <th>average_montly_hours</th>\n",
       "      <th>time_spend_company</th>\n",
       "      <th>work_accident</th>\n",
       "      <th>promotion_last_5years</th>\n",
       "    </tr>\n",
       "  </thead>\n",
       "  <tbody>\n",
       "    <tr>\n",
       "      <th>count</th>\n",
       "      <td>8393.000</td>\n",
       "      <td>8393.000</td>\n",
       "      <td>8393.000</td>\n",
       "      <td>8393.000</td>\n",
       "      <td>8393.000</td>\n",
       "      <td>8393.000</td>\n",
       "      <td>8393.000</td>\n",
       "    </tr>\n",
       "    <tr>\n",
       "      <th>mean</th>\n",
       "      <td>0.628</td>\n",
       "      <td>0.716</td>\n",
       "      <td>3.805</td>\n",
       "      <td>200.640</td>\n",
       "      <td>3.373</td>\n",
       "      <td>0.155</td>\n",
       "      <td>0.016</td>\n",
       "    </tr>\n",
       "    <tr>\n",
       "      <th>std</th>\n",
       "      <td>0.242</td>\n",
       "      <td>0.168</td>\n",
       "      <td>1.165</td>\n",
       "      <td>48.792</td>\n",
       "      <td>1.345</td>\n",
       "      <td>0.362</td>\n",
       "      <td>0.127</td>\n",
       "    </tr>\n",
       "    <tr>\n",
       "      <th>min</th>\n",
       "      <td>0.090</td>\n",
       "      <td>0.360</td>\n",
       "      <td>2.000</td>\n",
       "      <td>96.000</td>\n",
       "      <td>2.000</td>\n",
       "      <td>0.000</td>\n",
       "      <td>0.000</td>\n",
       "    </tr>\n",
       "    <tr>\n",
       "      <th>25%</th>\n",
       "      <td>0.480</td>\n",
       "      <td>0.570</td>\n",
       "      <td>3.000</td>\n",
       "      <td>158.000</td>\n",
       "      <td>3.000</td>\n",
       "      <td>0.000</td>\n",
       "      <td>0.000</td>\n",
       "    </tr>\n",
       "    <tr>\n",
       "      <th>50%</th>\n",
       "      <td>0.660</td>\n",
       "      <td>0.720</td>\n",
       "      <td>4.000</td>\n",
       "      <td>199.000</td>\n",
       "      <td>3.000</td>\n",
       "      <td>0.000</td>\n",
       "      <td>0.000</td>\n",
       "    </tr>\n",
       "    <tr>\n",
       "      <th>75%</th>\n",
       "      <td>0.820</td>\n",
       "      <td>0.860</td>\n",
       "      <td>5.000</td>\n",
       "      <td>244.000</td>\n",
       "      <td>4.000</td>\n",
       "      <td>0.000</td>\n",
       "      <td>0.000</td>\n",
       "    </tr>\n",
       "    <tr>\n",
       "      <th>max</th>\n",
       "      <td>1.000</td>\n",
       "      <td>1.000</td>\n",
       "      <td>7.000</td>\n",
       "      <td>310.000</td>\n",
       "      <td>10.000</td>\n",
       "      <td>1.000</td>\n",
       "      <td>1.000</td>\n",
       "    </tr>\n",
       "  </tbody>\n",
       "</table>\n",
       "</div>"
      ],
      "text/plain": [
       "       satisfaction_level  last_evaluation  number_project  \\\n",
       "count            8393.000         8393.000        8393.000   \n",
       "mean                0.628            0.716           3.805   \n",
       "std                 0.242            0.168           1.165   \n",
       "min                 0.090            0.360           2.000   \n",
       "25%                 0.480            0.570           3.000   \n",
       "50%                 0.660            0.720           4.000   \n",
       "75%                 0.820            0.860           5.000   \n",
       "max                 1.000            1.000           7.000   \n",
       "\n",
       "       average_montly_hours  time_spend_company  work_accident  \\\n",
       "count              8393.000            8393.000       8393.000   \n",
       "mean                200.640               3.373          0.155   \n",
       "std                  48.792               1.345          0.362   \n",
       "min                  96.000               2.000          0.000   \n",
       "25%                 158.000               3.000          0.000   \n",
       "50%                 199.000               3.000          0.000   \n",
       "75%                 244.000               4.000          0.000   \n",
       "max                 310.000              10.000          1.000   \n",
       "\n",
       "       promotion_last_5years  \n",
       "count               8393.000  \n",
       "mean                   0.016  \n",
       "std                    0.127  \n",
       "min                    0.000  \n",
       "25%                    0.000  \n",
       "50%                    0.000  \n",
       "75%                    0.000  \n",
       "max                    1.000  "
      ]
     },
     "execution_count": 130,
     "metadata": {},
     "output_type": "execute_result"
    }
   ],
   "source": [
    "X_train.describe()"
   ]
  },
  {
   "cell_type": "code",
   "execution_count": 131,
   "metadata": {},
   "outputs": [],
   "source": [
    "satisfaction_level_widget = widgets.FloatSlider(value=0.610, min=0.09, max=1, step=0.01, description='Satisfaction_Level:')\n",
    "\n",
    "last_evaluation_widget = widgets.FloatSlider(value=0.710, min=0.360, max=1, step=0.01, description='Last_Evaluation:')\n",
    "\n",
    "number_project_widget = widgets.IntSlider(value=4, min=2, max=7, step=1, description='Number_Project:')\n",
    "\n",
    "average_montly_hours_widget = widgets.IntSlider(value=201, min=96, max=310, step=1, description='Average_Montly_Hours:')\n",
    "\n",
    "time_spend_company_widget = widgets.IntSlider(value=4, min=2, max=10, step=1, description='Time_Spend_Company:')\n",
    "\n",
    "work_accident_widget = widgets.ToggleButtons(options=[0, 1], description='Work_accident:')\n",
    "\n",
    "promotion_last_5years_widget = widgets.ToggleButtons(options=[0, 1], description='Promotion_Last_5years:')\n",
    "\n",
    "departments_widget = widgets.Dropdown(options=['support','sales','hr','marketing','technical','management','IT','product_mng',\n",
    "                                               'RandD','accounting'], description='Departments:')\n",
    "\n",
    "salary_widget = widgets.ToggleButtons(options=['low', 'medium', 'high'], description='Salary:')"
   ]
  },
  {
   "cell_type": "code",
   "execution_count": 132,
   "metadata": {},
   "outputs": [
    {
     "data": {
      "application/vnd.jupyter.widget-view+json": {
       "model_id": "35ef3ccdccc94b4e94759f7c5341c3c2",
       "version_major": 2,
       "version_minor": 0
      },
      "text/plain": [
       "FloatSlider(value=0.61, description='Satisfaction_Level:', max=1.0, min=0.09, step=0.01)"
      ]
     },
     "metadata": {},
     "output_type": "display_data"
    },
    {
     "data": {
      "application/vnd.jupyter.widget-view+json": {
       "model_id": "316ef75537c54cc797723bfb45ee9595",
       "version_major": 2,
       "version_minor": 0
      },
      "text/plain": [
       "FloatSlider(value=0.71, description='Last_Evaluation:', max=1.0, min=0.36, step=0.01)"
      ]
     },
     "metadata": {},
     "output_type": "display_data"
    },
    {
     "data": {
      "application/vnd.jupyter.widget-view+json": {
       "model_id": "41a08f58b3e843debc50750cc876ddb4",
       "version_major": 2,
       "version_minor": 0
      },
      "text/plain": [
       "IntSlider(value=4, description='Number_Project:', max=7, min=2)"
      ]
     },
     "metadata": {},
     "output_type": "display_data"
    },
    {
     "data": {
      "application/vnd.jupyter.widget-view+json": {
       "model_id": "927a3ab4463a44de89cfe8e018099c96",
       "version_major": 2,
       "version_minor": 0
      },
      "text/plain": [
       "IntSlider(value=201, description='Average_Montly_Hours:', max=310, min=96)"
      ]
     },
     "metadata": {},
     "output_type": "display_data"
    },
    {
     "data": {
      "application/vnd.jupyter.widget-view+json": {
       "model_id": "1cb034593f5949d099739dc753bc231b",
       "version_major": 2,
       "version_minor": 0
      },
      "text/plain": [
       "IntSlider(value=4, description='Time_Spend_Company:', max=10, min=2)"
      ]
     },
     "metadata": {},
     "output_type": "display_data"
    },
    {
     "data": {
      "application/vnd.jupyter.widget-view+json": {
       "model_id": "f570d17c42a0492d89fc42173b6548f9",
       "version_major": 2,
       "version_minor": 0
      },
      "text/plain": [
       "ToggleButtons(description='Work_accident:', options=(0, 1), value=0)"
      ]
     },
     "metadata": {},
     "output_type": "display_data"
    },
    {
     "data": {
      "application/vnd.jupyter.widget-view+json": {
       "model_id": "c585b992fb914bd4a5429494efecca48",
       "version_major": 2,
       "version_minor": 0
      },
      "text/plain": [
       "ToggleButtons(description='Promotion_Last_5years:', options=(0, 1), value=0)"
      ]
     },
     "metadata": {},
     "output_type": "display_data"
    },
    {
     "data": {
      "application/vnd.jupyter.widget-view+json": {
       "model_id": "98203112a7b6400ca8c35bcaa6a8c2ad",
       "version_major": 2,
       "version_minor": 0
      },
      "text/plain": [
       "Dropdown(description='Departments:', options=('support', 'sales', 'hr', 'marketing', 'technical', 'management'…"
      ]
     },
     "metadata": {},
     "output_type": "display_data"
    },
    {
     "data": {
      "application/vnd.jupyter.widget-view+json": {
       "model_id": "43be6cd62e5a42e19343ca73bd08d819",
       "version_major": 2,
       "version_minor": 0
      },
      "text/plain": [
       "ToggleButtons(description='Salary:', options=('low', 'medium', 'high'), value='low')"
      ]
     },
     "metadata": {},
     "output_type": "display_data"
    },
    {
     "data": {
      "application/vnd.jupyter.widget-view+json": {
       "model_id": "7093dd4f08f3456c81666dd0d0c626e9",
       "version_major": 2,
       "version_minor": 0
      },
      "text/plain": [
       "Button(description='Predict', style=ButtonStyle())"
      ]
     },
     "metadata": {},
     "output_type": "display_data"
    },
    {
     "data": {
      "application/vnd.jupyter.widget-view+json": {
       "model_id": "f1a25e84c7274569b57018b57d84c53d",
       "version_major": 2,
       "version_minor": 0
      },
      "text/plain": [
       "Output()"
      ]
     },
     "metadata": {},
     "output_type": "display_data"
    }
   ],
   "source": [
    "predict_btn = widgets.Button(\n",
    "    description='Predict'\n",
    ")\n",
    "\n",
    "prediction_out = widgets.Output()\n",
    "\n",
    "def make_prediction(btn):\n",
    "    x = pd.DataFrame({\n",
    "        'satisfaction_level': satisfaction_level_widget.value,\n",
    "        'last_evaluation': last_evaluation_widget.value,\n",
    "        'number_project': number_project_widget.value,\n",
    "        'average_montly_hours': average_montly_hours_widget.value,\n",
    "        'time_spend_company': time_spend_company_widget.value,\n",
    "        'work_accident': work_accident_widget.value,\n",
    "        'promotion_last_5years': promotion_last_5years_widget.value,\n",
    "        'departments': departments_widget.value,\n",
    "        'salary': salary_widget.value\n",
    "    }, index=[0])\n",
    "    \n",
    "    prediction = gbc_model.predict(x)\n",
    "    \n",
    "    with prediction_out:\n",
    "        prediction_out.clear_output()\n",
    "        if prediction[0] == 0:\n",
    "            print('Prediction: ', prediction[0], '(stayed)')\n",
    "        else:\n",
    "            print('Prediction: ', prediction[0], '(left)')\n",
    "        \n",
    "predict_btn.on_click(make_prediction)\n",
    "\n",
    "display(satisfaction_level_widget, last_evaluation_widget, number_project_widget, average_montly_hours_widget, \n",
    "        time_spend_company_widget, work_accident_widget, promotion_last_5years_widget, departments_widget, \n",
    "        salary_widget, predict_btn, prediction_out)"
   ]
  },
  {
   "cell_type": "markdown",
   "metadata": {
    "id": "z9P157eX2sn2"
   },
   "source": [
    "<div class=\"alert alert-block alert-success\">\n",
    "    \n",
    "<b>KNeighbors Classifier</b>\n",
    "    \n",
    "</div>"
   ]
  },
  {
   "cell_type": "markdown",
   "metadata": {},
   "source": [
    "#### Model Building With OneHotEncoder (Dummies Features)"
   ]
  },
  {
   "cell_type": "code",
   "execution_count": 133,
   "metadata": {
    "id": "HkNI16f72sn4"
   },
   "outputs": [
    {
     "data": {
      "text/plain": [
       "Pipeline(steps=[('preprocessor',\n",
       "                 ColumnTransformer(remainder='passthrough',\n",
       "                                   transformers=[('encoder_ordinal',\n",
       "                                                  OrdinalEncoder(categories=[['low',\n",
       "                                                                              'medium',\n",
       "                                                                              'high']]),\n",
       "                                                  ['salary']),\n",
       "                                                 ('encoder_nominal',\n",
       "                                                  OneHotEncoder(),\n",
       "                                                  ['departments'])])),\n",
       "                ('scaler', RobustScaler()), ('clf', KNeighborsClassifier())])"
      ]
     },
     "execution_count": 133,
     "metadata": {},
     "output_type": "execute_result"
    }
   ],
   "source": [
    "# categorical features\n",
    "# cat_features = ['departments', 'salary']\n",
    "\n",
    "# you can use column transformer to do pre-processing all of dataframe's columns at the same time without doing it in pandas\n",
    "preprocessor1 = ColumnTransformer(transformers=[\n",
    "    ('encoder_ordinal', OrdinalEncoder(categories=[['low', 'medium', 'high']]), ['salary']),\n",
    "    ('encoder_nominal', OneHotEncoder(), ['departments']) # Unlike regression, create k dummies instead of (k-1)\n",
    "], remainder='passthrough')\n",
    "\n",
    "# pipeline chains steps together sequentially\n",
    "knn_model = Pipeline(steps=[\n",
    "      ('preprocessor', preprocessor1),\n",
    "      ('scaler', RobustScaler()),\n",
    "      ('clf', KNeighborsClassifier()) # clf for classifier\n",
    "])\n",
    "\n",
    "knn_model.fit(X_train, y_train)"
   ]
  },
  {
   "cell_type": "code",
   "execution_count": 134,
   "metadata": {},
   "outputs": [
    {
     "name": "stdout",
     "output_type": "stream",
     "text": [
      "Test_Set\n",
      "[[2908   93]\n",
      " [  62  535]]\n",
      "              precision    recall  f1-score   support\n",
      "\n",
      "           0       0.98      0.97      0.97      3001\n",
      "           1       0.85      0.90      0.87       597\n",
      "\n",
      "    accuracy                           0.96      3598\n",
      "   macro avg       0.92      0.93      0.92      3598\n",
      "weighted avg       0.96      0.96      0.96      3598\n",
      "\n",
      "\n",
      "Train_Set\n",
      "[[6839  160]\n",
      " [ 123 1271]]\n",
      "              precision    recall  f1-score   support\n",
      "\n",
      "           0       0.98      0.98      0.98      6999\n",
      "           1       0.89      0.91      0.90      1394\n",
      "\n",
      "    accuracy                           0.97      8393\n",
      "   macro avg       0.94      0.94      0.94      8393\n",
      "weighted avg       0.97      0.97      0.97      8393\n",
      "\n"
     ]
    }
   ],
   "source": [
    "eval_metric(knn_model, X_train, y_train, X_test, y_test)"
   ]
  },
  {
   "cell_type": "code",
   "execution_count": 135,
   "metadata": {},
   "outputs": [
    {
     "data": {
      "text/plain": [
       "test_accuracy    0.957\n",
       "test_precision   0.845\n",
       "test_recall      0.908\n",
       "test_f1          0.876\n",
       "test_roc_auc     0.959\n",
       "dtype: float64"
      ]
     },
     "execution_count": 135,
     "metadata": {},
     "output_type": "execute_result"
    }
   ],
   "source": [
    "# CROSS VALIDATION\n",
    "\n",
    "model = Pipeline(steps=[\n",
    "      ('preprocessor', preprocessor1),\n",
    "      ('scaler', RobustScaler()),\n",
    "      ('clf', KNeighborsClassifier())\n",
    "])\n",
    "\n",
    "scores = cross_validate(model, X_train, y_train, scoring = ['accuracy', 'precision', 'recall', 'f1', 'roc_auc'], cv=10)\n",
    "\n",
    "df_scores = pd.DataFrame(scores, index=range(1, 11))\n",
    "df_scores.mean()[2:]"
   ]
  },
  {
   "cell_type": "code",
   "execution_count": 136,
   "metadata": {},
   "outputs": [],
   "source": [
    "# Elbow Method for Choosing Best K Values\n",
    "\n",
    "model = Pipeline(steps=[\n",
    "      ('preprocessor', preprocessor1),\n",
    "      ('scaler', RobustScaler()),\n",
    "      ('clf', KNeighborsClassifier())\n",
    "])\n",
    "    \n",
    "test_error_rates = []\n",
    "\n",
    "for k in range(1,30):\n",
    "    \n",
    "    model.set_params(clf__n_neighbors=k)\n",
    "    model.fit(X_train,y_train) \n",
    "   \n",
    "    y_pred_test = model.predict(X_test)\n",
    "    \n",
    "    test_error = 1 - recall_score(y_test,y_pred_test)\n",
    "    test_error_rates.append(test_error)"
   ]
  },
  {
   "cell_type": "code",
   "execution_count": 139,
   "metadata": {},
   "outputs": [
    {
     "data": {
      "image/png": "[encoded data removed]",
      "text/plain": [
       "<Figure size 1080x576 with 1 Axes>"
      ]
     },
     "metadata": {},
     "output_type": "display_data"
    }
   ],
   "source": [
    "plt.figure(figsize=(15,8))\n",
    "plt.plot(range(1,30), test_error_rates, color='blue', linestyle='--', marker='o',\n",
    "         markerfacecolor='red', markersize=10)\n",
    "plt.title('Error Rate vs. K Value', size=13)\n",
    "plt.xlabel('K_values')\n",
    "plt.ylabel('Error Rate')\n",
    "plt.hlines(y=0.103, xmin = 0, xmax = 30, colors= 'r', linestyles='--', label='Default K Value')\n",
    "plt.hlines(y=0.085, xmin = 0, xmax = 30, colors= 'b', linestyles='--', label='Optimal K Value')\n",
    "plt.legend(prop={'size':13});"
   ]
  },
  {
   "cell_type": "code",
   "execution_count": 140,
   "metadata": {},
   "outputs": [
    {
     "data": {
      "text/plain": [
       "Pipeline(steps=[('preprocessor',\n",
       "                 ColumnTransformer(remainder='passthrough',\n",
       "                                   transformers=[('encoder_ordinal',\n",
       "                                                  OrdinalEncoder(categories=[['low',\n",
       "                                                                              'medium',\n",
       "                                                                              'high']]),\n",
       "                                                  ['salary']),\n",
       "                                                 ('encoder_nominal',\n",
       "                                                  OneHotEncoder(),\n",
       "                                                  ['departments'])])),\n",
       "                ('scaler', RobustScaler()),\n",
       "                ('clf', KNeighborsClassifier(n_neighbors=17))])"
      ]
     },
     "execution_count": 140,
     "metadata": {},
     "output_type": "execute_result"
    }
   ],
   "source": [
    "# MODELING WITH OPTIMAL K VALUE\n",
    "\n",
    "knn_model = Pipeline(steps=[\n",
    "      ('preprocessor', preprocessor1),\n",
    "      ('scaler', RobustScaler()),\n",
    "      ('clf', KNeighborsClassifier(n_neighbors=17))\n",
    "])\n",
    "\n",
    "knn_model.fit(X_train, y_train)"
   ]
  },
  {
   "cell_type": "code",
   "execution_count": 141,
   "metadata": {},
   "outputs": [
    {
     "name": "stdout",
     "output_type": "stream",
     "text": [
      "Test_Set\n",
      "[[2874  127]\n",
      " [  51  546]]\n",
      "              precision    recall  f1-score   support\n",
      "\n",
      "           0       0.98      0.96      0.97      3001\n",
      "           1       0.81      0.91      0.86       597\n",
      "\n",
      "    accuracy                           0.95      3598\n",
      "   macro avg       0.90      0.94      0.91      3598\n",
      "weighted avg       0.95      0.95      0.95      3598\n",
      "\n",
      "\n",
      "Train_Set\n",
      "[[6730  269]\n",
      " [ 112 1282]]\n",
      "              precision    recall  f1-score   support\n",
      "\n",
      "           0       0.98      0.96      0.97      6999\n",
      "           1       0.83      0.92      0.87      1394\n",
      "\n",
      "    accuracy                           0.95      8393\n",
      "   macro avg       0.91      0.94      0.92      8393\n",
      "weighted avg       0.96      0.95      0.96      8393\n",
      "\n"
     ]
    }
   ],
   "source": [
    "eval_metric(knn_model, X_train, y_train, X_test, y_test)"
   ]
  },
  {
   "cell_type": "markdown",
   "metadata": {
    "id": "QPakx2ON2sn3"
   },
   "source": [
    "#### Model Building With OrdinalEncoder"
   ]
  },
  {
   "cell_type": "code",
   "execution_count": 142,
   "metadata": {},
   "outputs": [
    {
     "data": {
      "text/plain": [
       "Pipeline(steps=[('preprocessor',\n",
       "                 ColumnTransformer(remainder='passthrough',\n",
       "                                   transformers=[('encoder_nominal',\n",
       "                                                  OrdinalEncoder(),\n",
       "                                                  ['departments']),\n",
       "                                                 ('encoder_ordinal',\n",
       "                                                  OrdinalEncoder(categories=[['low',\n",
       "                                                                              'medium',\n",
       "                                                                              'high']]),\n",
       "                                                  ['salary'])])),\n",
       "                ('scaler', RobustScaler()), ('clf', KNeighborsClassifier())])"
      ]
     },
     "execution_count": 142,
     "metadata": {},
     "output_type": "execute_result"
    }
   ],
   "source": [
    "# categorical features\n",
    "# cat_features = ['departments', 'salary']\n",
    "\n",
    "# you can use column transformer to do pre-processing all of dataframe's columns at the same time without doing it in pandas\n",
    "preprocessor2 = ColumnTransformer(transformers=[\n",
    "    ('encoder_nominal', OrdinalEncoder(), ['departments']),\n",
    "    ('encoder_ordinal', OrdinalEncoder(categories=[['low', 'medium', 'high']]), ['salary'])\n",
    "], remainder='passthrough')\n",
    "\n",
    "# pipeline chains steps together sequentially\n",
    "knn_model = Pipeline(steps=[\n",
    "      ('preprocessor', preprocessor2),\n",
    "      ('scaler', RobustScaler()),\n",
    "      ('clf', KNeighborsClassifier()) # clf for classifier\n",
    "])\n",
    "\n",
    "knn_model.fit(X_train, y_train)"
   ]
  },
  {
   "cell_type": "code",
   "execution_count": 143,
   "metadata": {},
   "outputs": [
    {
     "name": "stdout",
     "output_type": "stream",
     "text": [
      "Test_Set\n",
      "[[2938   63]\n",
      " [  56  541]]\n",
      "              precision    recall  f1-score   support\n",
      "\n",
      "           0       0.98      0.98      0.98      3001\n",
      "           1       0.90      0.91      0.90       597\n",
      "\n",
      "    accuracy                           0.97      3598\n",
      "   macro avg       0.94      0.94      0.94      3598\n",
      "weighted avg       0.97      0.97      0.97      3598\n",
      "\n",
      "\n",
      "Train_Set\n",
      "[[6880  119]\n",
      " [ 117 1277]]\n",
      "              precision    recall  f1-score   support\n",
      "\n",
      "           0       0.98      0.98      0.98      6999\n",
      "           1       0.91      0.92      0.92      1394\n",
      "\n",
      "    accuracy                           0.97      8393\n",
      "   macro avg       0.95      0.95      0.95      8393\n",
      "weighted avg       0.97      0.97      0.97      8393\n",
      "\n"
     ]
    }
   ],
   "source": [
    "eval_metric(knn_model, X_train, y_train, X_test, y_test)"
   ]
  },
  {
   "cell_type": "code",
   "execution_count": 144,
   "metadata": {},
   "outputs": [
    {
     "data": {
      "text/plain": [
       "test_accuracy    0.964\n",
       "test_precision   0.883\n",
       "test_recall      0.905\n",
       "test_f1          0.894\n",
       "test_roc_auc     0.961\n",
       "dtype: float64"
      ]
     },
     "execution_count": 144,
     "metadata": {},
     "output_type": "execute_result"
    }
   ],
   "source": [
    "# CROSS VALIDATION\n",
    "\n",
    "model = Pipeline(steps=[\n",
    "      ('preprocessor', preprocessor2),\n",
    "      ('scaler', RobustScaler()),\n",
    "      ('clf', KNeighborsClassifier())\n",
    "])\n",
    "\n",
    "scores = cross_validate(model, X_train, y_train, scoring = ['accuracy', 'precision', 'recall', 'f1', 'roc_auc'], cv=10)\n",
    "\n",
    "df_scores = pd.DataFrame(scores, index=range(1, 11))\n",
    "df_scores.mean()[2:]"
   ]
  },
  {
   "cell_type": "code",
   "execution_count": 145,
   "metadata": {},
   "outputs": [],
   "source": [
    "# Elbow Method for Choosing Best K Values\n",
    "\n",
    "model = Pipeline(steps=[\n",
    "      ('preprocessor', preprocessor2),\n",
    "      ('scaler', RobustScaler()),\n",
    "      ('clf', KNeighborsClassifier())\n",
    "])\n",
    "    \n",
    "test_error_rates = []\n",
    "\n",
    "for k in range(1,30):\n",
    "    \n",
    "    model.set_params(clf__n_neighbors=k)\n",
    "    model.fit(X_train,y_train) \n",
    "   \n",
    "    y_pred_test = model.predict(X_test)\n",
    "    \n",
    "    test_error = 1 - recall_score(y_test,y_pred_test)\n",
    "    test_error_rates.append(test_error)"
   ]
  },
  {
   "cell_type": "code",
   "execution_count": 146,
   "metadata": {},
   "outputs": [
    {
     "data": {
      "image/png": "[encoded data removed]",
      "text/plain": [
       "<Figure size 1080x576 with 1 Axes>"
      ]
     },
     "metadata": {},
     "output_type": "display_data"
    }
   ],
   "source": [
    "plt.figure(figsize=(15,8))\n",
    "plt.plot(range(1,30), test_error_rates, color='blue', linestyle='--', marker='o',\n",
    "         markerfacecolor='red', markersize=10)\n",
    "plt.title('Error Rate vs. K Value', size=13)\n",
    "plt.xlabel('K_values')\n",
    "plt.ylabel('Error Rate')\n",
    "plt.hlines(y=0.088, xmin = 0, xmax = 30, colors= 'r', linestyles='--', label='Default K Value')\n",
    "plt.hlines(y=0.093, xmin = 0, xmax = 30, colors= 'b', linestyles='--', label='Optimal K Value')\n",
    "plt.legend(prop={'size':13});"
   ]
  },
  {
   "cell_type": "code",
   "execution_count": 147,
   "metadata": {},
   "outputs": [
    {
     "data": {
      "text/plain": [
       "Pipeline(steps=[('preprocessor',\n",
       "                 ColumnTransformer(remainder='passthrough',\n",
       "                                   transformers=[('encoder_nominal',\n",
       "                                                  OrdinalEncoder(),\n",
       "                                                  ['departments']),\n",
       "                                                 ('encoder_ordinal',\n",
       "                                                  OrdinalEncoder(categories=[['low',\n",
       "                                                                              'medium',\n",
       "                                                                              'high']]),\n",
       "                                                  ['salary'])])),\n",
       "                ('scaler', RobustScaler()),\n",
       "                ('clf', KNeighborsClassifier(n_neighbors=17))])"
      ]
     },
     "execution_count": 147,
     "metadata": {},
     "output_type": "execute_result"
    }
   ],
   "source": [
    "# MODELING WITH OPTIMAL K VALUE\n",
    "\n",
    "knn_model = Pipeline(steps=[\n",
    "      ('preprocessor', preprocessor2),\n",
    "      ('scaler', RobustScaler()),\n",
    "      ('clf', KNeighborsClassifier(n_neighbors=17))\n",
    "])\n",
    "\n",
    "knn_model.fit(X_train, y_train)"
   ]
  },
  {
   "cell_type": "code",
   "execution_count": 148,
   "metadata": {},
   "outputs": [
    {
     "name": "stdout",
     "output_type": "stream",
     "text": [
      "Test_Set\n",
      "[[2912   89]\n",
      " [  53  544]]\n",
      "              precision    recall  f1-score   support\n",
      "\n",
      "           0       0.98      0.97      0.98      3001\n",
      "           1       0.86      0.91      0.88       597\n",
      "\n",
      "    accuracy                           0.96      3598\n",
      "   macro avg       0.92      0.94      0.93      3598\n",
      "weighted avg       0.96      0.96      0.96      3598\n",
      "\n",
      "\n",
      "Train_Set\n",
      "[[6806  193]\n",
      " [ 122 1272]]\n",
      "              precision    recall  f1-score   support\n",
      "\n",
      "           0       0.98      0.97      0.98      6999\n",
      "           1       0.87      0.91      0.89      1394\n",
      "\n",
      "    accuracy                           0.96      8393\n",
      "   macro avg       0.93      0.94      0.93      8393\n",
      "weighted avg       0.96      0.96      0.96      8393\n",
      "\n"
     ]
    }
   ],
   "source": [
    "eval_metric(knn_model, X_train, y_train, X_test, y_test)"
   ]
  },
  {
   "cell_type": "markdown",
   "metadata": {},
   "source": [
    "***"
   ]
  },
  {
   "cell_type": "code",
   "execution_count": 149,
   "metadata": {},
   "outputs": [
    {
     "name": "stdout",
     "output_type": "stream",
     "text": [
      "Fitting 10 folds for each of 288 candidates, totalling 2880 fits\n",
      "Wall time: 2min\n",
      "\n",
      " {'clf__leaf_size': 15, 'clf__n_neighbors': 2, 'clf__p': 1, 'clf__weights': 'uniform'}\n",
      "\n",
      " Pipeline(steps=[('preprocessor',\n",
      "                 ColumnTransformer(remainder='passthrough',\n",
      "                                   transformers=[('encoder_nominal',\n",
      "                                                  OrdinalEncoder(),\n",
      "                                                  ['departments']),\n",
      "                                                 ('encoder_ordinal',\n",
      "                                                  OrdinalEncoder(categories=[['low',\n",
      "                                                                              'medium',\n",
      "                                                                              'high']]),\n",
      "                                                  ['salary'])])),\n",
      "                ('scaler', RobustScaler()),\n",
      "                ('clf',\n",
      "                 KNeighborsClassifier(leaf_size=15, n_neighbors=2, p=1))])\n",
      "\n",
      " Best Score : 0.9000970466150756\n"
     ]
    }
   ],
   "source": [
    "# GRID SEARCH (with ordinal encoder)\n",
    "\n",
    "model = Pipeline(steps=[\n",
    "      ('preprocessor', preprocessor2),\n",
    "      ('scaler', RobustScaler()),\n",
    "      ('clf', KNeighborsClassifier())\n",
    "])\n",
    "\n",
    "param_grid = {'clf__n_neighbors': range(1,25), 'clf__p': [1,2], 'clf__weights': ['uniform', 'distance'],\n",
    "              'clf__leaf_size': [15, 30, 40]}\n",
    "\n",
    "knn_grid_model = GridSearchCV(model, param_grid, cv=10, verbose=1, scoring='f1', n_jobs=-1)\n",
    "\n",
    "%time knn_grid_model.fit(X_train,y_train)\n",
    "\n",
    "print('\\n', knn_grid_model.best_params_)\n",
    "print('\\n', knn_grid_model.best_estimator_)\n",
    "print('\\n', 'Best Score :', knn_grid_model.best_score_)"
   ]
  },
  {
   "cell_type": "code",
   "execution_count": 150,
   "metadata": {},
   "outputs": [
    {
     "name": "stdout",
     "output_type": "stream",
     "text": [
      "Test_Set\n",
      "[[2954   47]\n",
      " [  72  525]]\n",
      "              precision    recall  f1-score   support\n",
      "\n",
      "           0       0.98      0.98      0.98      3001\n",
      "           1       0.92      0.88      0.90       597\n",
      "\n",
      "    accuracy                           0.97      3598\n",
      "   macro avg       0.95      0.93      0.94      3598\n",
      "weighted avg       0.97      0.97      0.97      3598\n",
      "\n",
      "\n",
      "Train_Set\n",
      "[[6999    0]\n",
      " [ 140 1254]]\n",
      "              precision    recall  f1-score   support\n",
      "\n",
      "           0       0.98      1.00      0.99      6999\n",
      "           1       1.00      0.90      0.95      1394\n",
      "\n",
      "    accuracy                           0.98      8393\n",
      "   macro avg       0.99      0.95      0.97      8393\n",
      "weighted avg       0.98      0.98      0.98      8393\n",
      "\n"
     ]
    }
   ],
   "source": [
    "eval_metric(knn_grid_model, X_train, y_train, X_test, y_test)"
   ]
  },
  {
   "cell_type": "code",
   "execution_count": 151,
   "metadata": {},
   "outputs": [],
   "source": [
    "knn_model = Pipeline(steps=[\n",
    "      ('preprocessor', preprocessor2),\n",
    "      ('scaler', RobustScaler()),\n",
    "      ('clf', KNeighborsClassifier())\n",
    "]).fit(X_train, y_train)"
   ]
  },
  {
   "cell_type": "markdown",
   "metadata": {
    "id": "MdGymWJ_2sn9"
   },
   "source": [
    "#### Evaluating Model Performance"
   ]
  },
  {
   "cell_type": "code",
   "execution_count": 152,
   "metadata": {
    "id": "TPF_wziW2soC"
   },
   "outputs": [
    {
     "data": {
      "image/png": "[encoded data removed]",
      "text/plain": [
       "<Figure size 1008x432 with 2 Axes>"
      ]
     },
     "metadata": {},
     "output_type": "display_data"
    }
   ],
   "source": [
    "plt.figure(figsize=(14,6))\n",
    "\n",
    "y_pred = knn_model.predict(X_test)\n",
    "cf_matrix = confusion_matrix(y_test, y_pred)\n",
    "\n",
    "group_names = ['True Negatives (TN)', 'False Positives (FP)\\n(Type I Error)', \n",
    "               'False Negatives (FN)\\n(Type II Error)', 'True Positives (TP)']\n",
    "group_counts = ['{0:0.0f}'.format(value) for value in cf_matrix.flatten()]\n",
    "group_percentages = ['{0:.2%}'.format(value) for value in cf_matrix.flatten()/np.sum(cf_matrix)]\n",
    "\n",
    "labels = [f'{v1}\\n{v2}\\n{v3}' for v1, v2, v3 in zip(group_names, group_counts, group_percentages)]\n",
    "\n",
    "labels = np.asarray(labels).reshape(2, 2)\n",
    "\n",
    "ax = sns.heatmap(cf_matrix, annot=labels, fmt=\"\", annot_kws={'size': 13}, cmap='viridis')\n",
    "ax.set(xlabel='Predicted Class', ylabel = 'Actual Class');"
   ]
  },
  {
   "cell_type": "code",
   "execution_count": 153,
   "metadata": {},
   "outputs": [
    {
     "data": {
      "image/png": "[encoded data removed]",
      "text/plain": [
       "<Figure size 720x432 with 1 Axes>"
      ]
     },
     "metadata": {},
     "output_type": "display_data"
    }
   ],
   "source": [
    "visualizer = ClassPredictionError(knn_model)\n",
    "\n",
    "visualizer.fit(X_train, y_train)\n",
    "visualizer.score(X_test, y_test)\n",
    "\n",
    "visualizer.poof();"
   ]
  },
  {
   "cell_type": "code",
   "execution_count": 154,
   "metadata": {},
   "outputs": [
    {
     "data": {
      "image/png": "[encoded data removed]",
      "text/plain": [
       "<Figure size 720x432 with 1 Axes>"
      ]
     },
     "metadata": {},
     "output_type": "display_data"
    }
   ],
   "source": [
    "viz = PrecisionRecallCurve(knn_model)\n",
    "\n",
    "viz.fit(X_train, y_train)\n",
    "viz.score(X_test, y_test)\n",
    "viz.show();"
   ]
  },
  {
   "cell_type": "code",
   "execution_count": 155,
   "metadata": {},
   "outputs": [
    {
     "data": {
      "text/plain": [
       "0.8911834922647753"
      ]
     },
     "execution_count": 155,
     "metadata": {},
     "output_type": "execute_result"
    }
   ],
   "source": [
    "y_pred_proba = knn_model.predict_proba(X_test)\n",
    "average_precision_score(y_test, y_pred_proba[:,1])"
   ]
  },
  {
   "cell_type": "markdown",
   "metadata": {},
   "source": [
    "#### Feature Importance"
   ]
  },
  {
   "cell_type": "code",
   "execution_count": null,
   "metadata": {},
   "outputs": [],
   "source": [
    "Since KNN is a non-parametric algorithm, we cannot do feature importance in this model."
   ]
  },
  {
   "cell_type": "markdown",
   "metadata": {},
   "source": [
    "#### Scores"
   ]
  },
  {
   "cell_type": "code",
   "execution_count": 156,
   "metadata": {},
   "outputs": [],
   "source": [
    "y_pred = knn_model.predict(X_test)\n",
    "y_pred_proba = knn_model.predict_proba(X_test)\n",
    "\n",
    "knn_accuracy = knn_model.score(X_test, y_test) # accuracy_score(y_test, y_pred)\n",
    "knn_precision = precision_score(y_test, y_pred)\n",
    "knn_recall = recall_score(y_test, y_pred)\n",
    "knn_f1 = f1_score(y_test, y_pred)\n",
    "knn_precision_recall = average_precision_score(y_test, y_pred_proba[:,1])"
   ]
  },
  {
   "cell_type": "markdown",
   "metadata": {
    "id": "_BYTdWlr2soJ"
   },
   "source": [
    "#### Prediction"
   ]
  },
  {
   "cell_type": "code",
   "execution_count": 157,
   "metadata": {},
   "outputs": [
    {
     "data": {
      "text/plain": [
       "Pipeline(steps=[('preprocessor',\n",
       "                 ColumnTransformer(remainder='passthrough',\n",
       "                                   transformers=[('encoder_nominal',\n",
       "                                                  OrdinalEncoder(),\n",
       "                                                  ['departments']),\n",
       "                                                 ('encoder_ordinal',\n",
       "                                                  OrdinalEncoder(categories=[['low',\n",
       "                                                                              'medium',\n",
       "                                                                              'high']]),\n",
       "                                                  ['salary'])])),\n",
       "                ('scaler', RobustScaler()), ('clf', KNeighborsClassifier())])"
      ]
     },
     "execution_count": 157,
     "metadata": {},
     "output_type": "execute_result"
    }
   ],
   "source": [
    "knn_model.fit(X,y)"
   ]
  },
  {
   "cell_type": "code",
   "execution_count": 158,
   "metadata": {},
   "outputs": [
    {
     "data": {
      "application/vnd.jupyter.widget-view+json": {
       "model_id": "35ef3ccdccc94b4e94759f7c5341c3c2",
       "version_major": 2,
       "version_minor": 0
      },
      "text/plain": [
       "FloatSlider(value=0.61, description='Satisfaction_Level:', max=1.0, min=0.09, step=0.01)"
      ]
     },
     "metadata": {},
     "output_type": "display_data"
    },
    {
     "data": {
      "application/vnd.jupyter.widget-view+json": {
       "model_id": "316ef75537c54cc797723bfb45ee9595",
       "version_major": 2,
       "version_minor": 0
      },
      "text/plain": [
       "FloatSlider(value=0.71, description='Last_Evaluation:', max=1.0, min=0.36, step=0.01)"
      ]
     },
     "metadata": {},
     "output_type": "display_data"
    },
    {
     "data": {
      "application/vnd.jupyter.widget-view+json": {
       "model_id": "41a08f58b3e843debc50750cc876ddb4",
       "version_major": 2,
       "version_minor": 0
      },
      "text/plain": [
       "IntSlider(value=4, description='Number_Project:', max=7, min=2)"
      ]
     },
     "metadata": {},
     "output_type": "display_data"
    },
    {
     "data": {
      "application/vnd.jupyter.widget-view+json": {
       "model_id": "927a3ab4463a44de89cfe8e018099c96",
       "version_major": 2,
       "version_minor": 0
      },
      "text/plain": [
       "IntSlider(value=201, description='Average_Montly_Hours:', max=310, min=96)"
      ]
     },
     "metadata": {},
     "output_type": "display_data"
    },
    {
     "data": {
      "application/vnd.jupyter.widget-view+json": {
       "model_id": "1cb034593f5949d099739dc753bc231b",
       "version_major": 2,
       "version_minor": 0
      },
      "text/plain": [
       "IntSlider(value=4, description='Time_Spend_Company:', max=10, min=2)"
      ]
     },
     "metadata": {},
     "output_type": "display_data"
    },
    {
     "data": {
      "application/vnd.jupyter.widget-view+json": {
       "model_id": "f570d17c42a0492d89fc42173b6548f9",
       "version_major": 2,
       "version_minor": 0
      },
      "text/plain": [
       "ToggleButtons(description='Work_accident:', options=(0, 1), value=0)"
      ]
     },
     "metadata": {},
     "output_type": "display_data"
    },
    {
     "data": {
      "application/vnd.jupyter.widget-view+json": {
       "model_id": "c585b992fb914bd4a5429494efecca48",
       "version_major": 2,
       "version_minor": 0
      },
      "text/plain": [
       "ToggleButtons(description='Promotion_Last_5years:', options=(0, 1), value=0)"
      ]
     },
     "metadata": {},
     "output_type": "display_data"
    },
    {
     "data": {
      "application/vnd.jupyter.widget-view+json": {
       "model_id": "98203112a7b6400ca8c35bcaa6a8c2ad",
       "version_major": 2,
       "version_minor": 0
      },
      "text/plain": [
       "Dropdown(description='Departments:', options=('support', 'sales', 'hr', 'marketing', 'technical', 'management'…"
      ]
     },
     "metadata": {},
     "output_type": "display_data"
    },
    {
     "data": {
      "application/vnd.jupyter.widget-view+json": {
       "model_id": "43be6cd62e5a42e19343ca73bd08d819",
       "version_major": 2,
       "version_minor": 0
      },
      "text/plain": [
       "ToggleButtons(description='Salary:', options=('low', 'medium', 'high'), value='low')"
      ]
     },
     "metadata": {},
     "output_type": "display_data"
    },
    {
     "data": {
      "application/vnd.jupyter.widget-view+json": {
       "model_id": "8cdf0aa57e174fb481c51a9ad557185e",
       "version_major": 2,
       "version_minor": 0
      },
      "text/plain": [
       "Button(description='Predict', style=ButtonStyle())"
      ]
     },
     "metadata": {},
     "output_type": "display_data"
    },
    {
     "data": {
      "application/vnd.jupyter.widget-view+json": {
       "model_id": "63c15d6893774a0db1c863408cfbb781",
       "version_major": 2,
       "version_minor": 0
      },
      "text/plain": [
       "Output()"
      ]
     },
     "metadata": {},
     "output_type": "display_data"
    }
   ],
   "source": [
    "predict_btn = widgets.Button(\n",
    "    description='Predict'\n",
    ")\n",
    "\n",
    "prediction_out = widgets.Output()\n",
    "\n",
    "def make_prediction(btn):\n",
    "    x = pd.DataFrame({\n",
    "        'satisfaction_level': satisfaction_level_widget.value,\n",
    "        'last_evaluation': last_evaluation_widget.value,\n",
    "        'number_project': number_project_widget.value,\n",
    "        'average_montly_hours': average_montly_hours_widget.value,\n",
    "        'time_spend_company': time_spend_company_widget.value,\n",
    "        'work_accident': work_accident_widget.value,\n",
    "        'promotion_last_5years': promotion_last_5years_widget.value,\n",
    "        'departments': departments_widget.value,\n",
    "        'salary': salary_widget.value\n",
    "    }, index=[0])\n",
    "    \n",
    "    prediction = knn_model.predict(x)\n",
    "    \n",
    "    with prediction_out:\n",
    "        prediction_out.clear_output()\n",
    "        if prediction[0] == 0:\n",
    "            print('Prediction: ', prediction[0], '(stayed)')\n",
    "        else:\n",
    "            print('Prediction: ', prediction[0], '(left)')\n",
    "        \n",
    "predict_btn.on_click(make_prediction)\n",
    "\n",
    "display(satisfaction_level_widget, last_evaluation_widget, number_project_widget, average_montly_hours_widget, \n",
    "        time_spend_company_widget, work_accident_widget, promotion_last_5years_widget, departments_widget, \n",
    "        salary_widget, predict_btn, prediction_out)"
   ]
  },
  {
   "cell_type": "markdown",
   "metadata": {
    "id": "PfMy1D_p2soK"
   },
   "source": [
    "<div class=\"alert alert-block alert-success\">\n",
    "    \n",
    "<b>Random Forest Classifier</b>\n",
    "    \n",
    "</div>"
   ]
  },
  {
   "cell_type": "markdown",
   "metadata": {
    "id": "M4GifMUw2soL"
   },
   "source": [
    "#### Model Building"
   ]
  },
  {
   "cell_type": "code",
   "execution_count": null,
   "metadata": {},
   "outputs": [],
   "source": [
    "# MODEL BUILDING WITH make_column_transformer and make_pipeline"
   ]
  },
  {
   "cell_type": "code",
   "execution_count": 159,
   "metadata": {},
   "outputs": [
    {
     "data": {
      "text/plain": [
       "Pipeline(steps=[('columntransformer',\n",
       "                 ColumnTransformer(remainder='passthrough',\n",
       "                                   transformers=[('ordinalencoder-1',\n",
       "                                                  OrdinalEncoder(),\n",
       "                                                  ['departments']),\n",
       "                                                 ('ordinalencoder-2',\n",
       "                                                  OrdinalEncoder(categories=[['low',\n",
       "                                                                              'medium',\n",
       "                                                                              'high']]),\n",
       "                                                  ['salary'])])),\n",
       "                ('randomforestclassifier',\n",
       "                 RandomForestClassifier(random_state=42))])"
      ]
     },
     "execution_count": 159,
     "metadata": {},
     "output_type": "execute_result"
    }
   ],
   "source": [
    "clf = RandomForestClassifier(random_state=42)\n",
    "\n",
    "# categorical features\n",
    "# cat_features = ['departments', 'salary']\n",
    "\n",
    "# you can use column transformer to do pre-processing all of dataframe's columns at the same time without doing it in pandas\n",
    "preprocessor = make_column_transformer(\n",
    "    (OrdinalEncoder(), ['departments']),\n",
    "    (OrdinalEncoder(categories=[['low', 'medium', 'high']]), ['salary']), \n",
    "remainder='passthrough')\n",
    "\n",
    "rf_model = make_pipeline(preprocessor, clf)\n",
    "\n",
    "rf_model.fit(X_train, y_train)"
   ]
  },
  {
   "cell_type": "code",
   "execution_count": 160,
   "metadata": {},
   "outputs": [
    {
     "name": "stdout",
     "output_type": "stream",
     "text": [
      "Test_Set\n",
      "[[2996    5]\n",
      " [  48  549]]\n",
      "              precision    recall  f1-score   support\n",
      "\n",
      "           0       0.98      1.00      0.99      3001\n",
      "           1       0.99      0.92      0.95       597\n",
      "\n",
      "    accuracy                           0.99      3598\n",
      "   macro avg       0.99      0.96      0.97      3598\n",
      "weighted avg       0.99      0.99      0.99      3598\n",
      "\n",
      "\n",
      "Train_Set\n",
      "[[6999    0]\n",
      " [   0 1394]]\n",
      "              precision    recall  f1-score   support\n",
      "\n",
      "           0       1.00      1.00      1.00      6999\n",
      "           1       1.00      1.00      1.00      1394\n",
      "\n",
      "    accuracy                           1.00      8393\n",
      "   macro avg       1.00      1.00      1.00      8393\n",
      "weighted avg       1.00      1.00      1.00      8393\n",
      "\n"
     ]
    }
   ],
   "source": [
    "eval_metric(rf_model, X_train, y_train, X_test, y_test)"
   ]
  },
  {
   "cell_type": "code",
   "execution_count": 161,
   "metadata": {},
   "outputs": [
    {
     "data": {
      "text/plain": [
       "test_accuracy    0.984\n",
       "test_precision   0.988\n",
       "test_recall      0.912\n",
       "test_f1          0.948\n",
       "test_roc_auc     0.980\n",
       "dtype: float64"
      ]
     },
     "execution_count": 161,
     "metadata": {},
     "output_type": "execute_result"
    }
   ],
   "source": [
    "# CROSS VALIDATION\n",
    "\n",
    "model = make_pipeline(preprocessor, clf)\n",
    "\n",
    "scores = cross_validate(model, X_train, y_train, scoring = ['accuracy', 'precision', 'recall', 'f1', 'roc_auc'], cv=10)\n",
    "\n",
    "df_scores = pd.DataFrame(scores, index=range(1, 11))\n",
    "df_scores.mean()[2:]"
   ]
  },
  {
   "cell_type": "code",
   "execution_count": 162,
   "metadata": {},
   "outputs": [
    {
     "name": "stdout",
     "output_type": "stream",
     "text": [
      "Fitting 10 folds for each of 324 candidates, totalling 3240 fits\n",
      "Wall time: 12min 9s\n",
      "\n",
      " {'randomforestclassifier__class_weight': None, 'randomforestclassifier__max_depth': 9, 'randomforestclassifier__max_features': 5, 'randomforestclassifier__min_samples_split': 8, 'randomforestclassifier__n_estimators': 128}\n",
      "\n",
      " Pipeline(steps=[('columntransformer',\n",
      "                 ColumnTransformer(remainder='passthrough',\n",
      "                                   transformers=[('ordinalencoder-1',\n",
      "                                                  OrdinalEncoder(),\n",
      "                                                  ['departments']),\n",
      "                                                 ('ordinalencoder-2',\n",
      "                                                  OrdinalEncoder(categories=[['low',\n",
      "                                                                              'medium',\n",
      "                                                                              'high']]),\n",
      "                                                  ['salary'])])),\n",
      "                ('randomforestclassifier',\n",
      "                 RandomForestClassifier(max_depth=9, max_features=5,\n",
      "                                        min_samples_split=8, n_estimators=128,\n",
      "                                        random_state=42))])\n",
      "\n",
      " Best Score : 0.9515292958541803\n"
     ]
    }
   ],
   "source": [
    "# GRID SEARCH\n",
    "\n",
    "model = make_pipeline(preprocessor, clf)  #clf=RandomForestClassifier(random_state=42)\n",
    "\n",
    "param_grid = {'randomforestclassifier__n_estimators':[64, 100, 128, 200],\n",
    "              'randomforestclassifier__max_features':[3, 5, 'auto'],\n",
    "              'randomforestclassifier__max_depth':[4, 7, 9],\n",
    "              'randomforestclassifier__min_samples_split':[2, 5, 8],\n",
    "              'randomforestclassifier__class_weight': [None, 'balanced', 'balanced_subsample']}\n",
    "\n",
    "rf_grid_model = GridSearchCV(model, param_grid, cv=10, verbose=1, scoring='f1', n_jobs=-1)\n",
    "\n",
    "%time rf_grid_model.fit(X_train,y_train)\n",
    "\n",
    "print('\\n', rf_grid_model.best_params_)\n",
    "print('\\n', rf_grid_model.best_estimator_)\n",
    "print('\\n', 'Best Score :', rf_grid_model.best_score_)"
   ]
  },
  {
   "cell_type": "code",
   "execution_count": 163,
   "metadata": {},
   "outputs": [
    {
     "name": "stdout",
     "output_type": "stream",
     "text": [
      "Test_Set\n",
      "[[2995    6]\n",
      " [  46  551]]\n",
      "              precision    recall  f1-score   support\n",
      "\n",
      "           0       0.98      1.00      0.99      3001\n",
      "           1       0.99      0.92      0.95       597\n",
      "\n",
      "    accuracy                           0.99      3598\n",
      "   macro avg       0.99      0.96      0.97      3598\n",
      "weighted avg       0.99      0.99      0.99      3598\n",
      "\n",
      "\n",
      "Train_Set\n",
      "[[6986   13]\n",
      " [ 104 1290]]\n",
      "              precision    recall  f1-score   support\n",
      "\n",
      "           0       0.99      1.00      0.99      6999\n",
      "           1       0.99      0.93      0.96      1394\n",
      "\n",
      "    accuracy                           0.99      8393\n",
      "   macro avg       0.99      0.96      0.97      8393\n",
      "weighted avg       0.99      0.99      0.99      8393\n",
      "\n"
     ]
    }
   ],
   "source": [
    "eval_metric(rf_grid_model, X_train, y_train, X_test, y_test)"
   ]
  },
  {
   "cell_type": "code",
   "execution_count": 164,
   "metadata": {},
   "outputs": [],
   "source": [
    "rf_model = Pipeline(steps=[('columntransformer',\n",
    "                 ColumnTransformer(remainder='passthrough',\n",
    "                                   transformers=[('ordinalencoder-1',\n",
    "                                                  OrdinalEncoder(),\n",
    "                                                  ['departments']),\n",
    "                                                 ('ordinalencoder-2',\n",
    "                                                  OrdinalEncoder(categories=[['low',\n",
    "                                                                              'medium',\n",
    "                                                                              'high']]),\n",
    "                                                  ['salary'])])),\n",
    "                ('clf',\n",
    "                 RandomForestClassifier(max_depth=9, max_features=5,\n",
    "                                        min_samples_split=8, n_estimators=128,\n",
    "                                        random_state=42))]).fit(X_train, y_train)"
   ]
  },
  {
   "cell_type": "markdown",
   "metadata": {
    "id": "xRUPvrME2soc"
   },
   "source": [
    "#### Evaluating Model Performance"
   ]
  },
  {
   "cell_type": "code",
   "execution_count": 165,
   "metadata": {},
   "outputs": [
    {
     "data": {
      "image/png": "[encoded data removed]",
      "text/plain": [
       "<Figure size 1008x432 with 2 Axes>"
      ]
     },
     "metadata": {},
     "output_type": "display_data"
    }
   ],
   "source": [
    "plt.figure(figsize=(14,6))\n",
    "\n",
    "y_pred = rf_model.predict(X_test)\n",
    "cf_matrix = confusion_matrix(y_test, y_pred)\n",
    "\n",
    "group_names = ['True Negatives (TN)', 'False Positives (FP)\\n(Type I Error)', \n",
    "               'False Negatives (FN)\\n(Type II Error)', 'True Positives (TP)']\n",
    "group_counts = ['{0:0.0f}'.format(value) for value in cf_matrix.flatten()]\n",
    "group_percentages = ['{0:.2%}'.format(value) for value in cf_matrix.flatten()/np.sum(cf_matrix)]\n",
    "\n",
    "labels = [f'{v1}\\n{v2}\\n{v3}' for v1, v2, v3 in zip(group_names, group_counts, group_percentages)]\n",
    "\n",
    "labels = np.asarray(labels).reshape(2, 2)\n",
    "\n",
    "ax = sns.heatmap(cf_matrix, annot=labels, fmt=\"\", annot_kws={'size': 13}, cmap='viridis')\n",
    "ax.set(xlabel='Predicted Class', ylabel = 'Actual Class');"
   ]
  },
  {
   "cell_type": "code",
   "execution_count": 166,
   "metadata": {},
   "outputs": [
    {
     "data": {
      "image/png": "[encoded data removed]",
      "text/plain": [
       "<Figure size 720x432 with 1 Axes>"
      ]
     },
     "metadata": {},
     "output_type": "display_data"
    }
   ],
   "source": [
    "visualizer = ClassPredictionError(rf_model)\n",
    "\n",
    "visualizer.fit(X_train, y_train)\n",
    "visualizer.score(X_test, y_test)\n",
    "\n",
    "visualizer.poof();"
   ]
  },
  {
   "cell_type": "code",
   "execution_count": 167,
   "metadata": {
    "id": "tXKuonpN2soe"
   },
   "outputs": [
    {
     "data": {
      "image/png": "[encoded data removed]",
      "text/plain": [
       "<Figure size 720x432 with 1 Axes>"
      ]
     },
     "metadata": {},
     "output_type": "display_data"
    }
   ],
   "source": [
    "viz = PrecisionRecallCurve(rf_model)\n",
    "\n",
    "viz.fit(X_train, y_train)\n",
    "viz.score(X_test, y_test)\n",
    "viz.show();"
   ]
  },
  {
   "cell_type": "code",
   "execution_count": 168,
   "metadata": {},
   "outputs": [
    {
     "data": {
      "text/plain": [
       "0.9618207064871517"
      ]
     },
     "execution_count": 168,
     "metadata": {},
     "output_type": "execute_result"
    }
   ],
   "source": [
    "y_pred_proba = rf_model.predict_proba(X_test)\n",
    "average_precision_score(y_test, y_pred_proba[:,1])"
   ]
  },
  {
   "cell_type": "markdown",
   "metadata": {},
   "source": [
    "#### Feature Importance"
   ]
  },
  {
   "cell_type": "code",
   "execution_count": 170,
   "metadata": {},
   "outputs": [
    {
     "data": {
      "text/plain": [
       "RandomForestClassifier(max_depth=9, max_features=5, min_samples_split=8,\n",
       "                       n_estimators=128, random_state=42)"
      ]
     },
     "execution_count": 170,
     "metadata": {},
     "output_type": "execute_result"
    }
   ],
   "source": [
    "rf_model.named_steps['clf']"
   ]
  },
  {
   "cell_type": "code",
   "execution_count": 171,
   "metadata": {},
   "outputs": [
    {
     "data": {
      "image/png": "[encoded data removed]",
      "text/plain": [
       "<Figure size 700x400 with 1 Axes>"
      ]
     },
     "metadata": {},
     "output_type": "display_data"
    },
    {
     "data": {
      "text/plain": [
       "<AxesSubplot:title={'center':'Feature Importances of 9 Features using RandomForestClassifier'}, xlabel='feature importance'>"
      ]
     },
     "execution_count": 171,
     "metadata": {},
     "output_type": "execute_result"
    }
   ],
   "source": [
    "from yellowbrick.model_selection import FeatureImportances\n",
    "from yellowbrick.features import RadViz\n",
    "\n",
    "viz = FeatureImportances(rf_model.named_steps['clf'], relative=False)\n",
    "visualizer = RadViz(size=(700, 400))\n",
    "viz.fit(X_train, y_train)\n",
    "viz.show()"
   ]
  },
  {
   "cell_type": "markdown",
   "metadata": {},
   "source": [
    "#### Scores"
   ]
  },
  {
   "cell_type": "code",
   "execution_count": 172,
   "metadata": {},
   "outputs": [],
   "source": [
    "y_pred = rf_model.predict(X_test)\n",
    "y_pred_proba = rf_model.predict_proba(X_test)\n",
    "\n",
    "rf_accuracy = rf_model.score(X_test, y_test) # accuracy_score(y_test, y_pred)\n",
    "rf_precision = precision_score(y_test, y_pred)\n",
    "rf_recall = recall_score(y_test, y_pred)\n",
    "rf_f1 = f1_score(y_test, y_pred)\n",
    "rf_precision_recall = average_precision_score(y_test, y_pred_proba[:,1])"
   ]
  },
  {
   "cell_type": "markdown",
   "metadata": {
    "id": "SKLtTwJ82som"
   },
   "source": [
    "#### Prediction"
   ]
  },
  {
   "cell_type": "code",
   "execution_count": 173,
   "metadata": {},
   "outputs": [
    {
     "data": {
      "text/plain": [
       "Pipeline(steps=[('columntransformer',\n",
       "                 ColumnTransformer(remainder='passthrough',\n",
       "                                   transformers=[('ordinalencoder-1',\n",
       "                                                  OrdinalEncoder(),\n",
       "                                                  ['departments']),\n",
       "                                                 ('ordinalencoder-2',\n",
       "                                                  OrdinalEncoder(categories=[['low',\n",
       "                                                                              'medium',\n",
       "                                                                              'high']]),\n",
       "                                                  ['salary'])])),\n",
       "                ('clf',\n",
       "                 RandomForestClassifier(max_depth=9, max_features=5,\n",
       "                                        min_samples_split=8, n_estimators=128,\n",
       "                                        random_state=42))])"
      ]
     },
     "execution_count": 173,
     "metadata": {},
     "output_type": "execute_result"
    }
   ],
   "source": [
    "rf_model.fit(X,y)"
   ]
  },
  {
   "cell_type": "code",
   "execution_count": 174,
   "metadata": {},
   "outputs": [
    {
     "data": {
      "application/vnd.jupyter.widget-view+json": {
       "model_id": "35ef3ccdccc94b4e94759f7c5341c3c2",
       "version_major": 2,
       "version_minor": 0
      },
      "text/plain": [
       "FloatSlider(value=0.61, description='Satisfaction_Level:', max=1.0, min=0.09, step=0.01)"
      ]
     },
     "metadata": {},
     "output_type": "display_data"
    },
    {
     "data": {
      "application/vnd.jupyter.widget-view+json": {
       "model_id": "316ef75537c54cc797723bfb45ee9595",
       "version_major": 2,
       "version_minor": 0
      },
      "text/plain": [
       "FloatSlider(value=0.71, description='Last_Evaluation:', max=1.0, min=0.36, step=0.01)"
      ]
     },
     "metadata": {},
     "output_type": "display_data"
    },
    {
     "data": {
      "application/vnd.jupyter.widget-view+json": {
       "model_id": "41a08f58b3e843debc50750cc876ddb4",
       "version_major": 2,
       "version_minor": 0
      },
      "text/plain": [
       "IntSlider(value=4, description='Number_Project:', max=7, min=2)"
      ]
     },
     "metadata": {},
     "output_type": "display_data"
    },
    {
     "data": {
      "application/vnd.jupyter.widget-view+json": {
       "model_id": "927a3ab4463a44de89cfe8e018099c96",
       "version_major": 2,
       "version_minor": 0
      },
      "text/plain": [
       "IntSlider(value=201, description='Average_Montly_Hours:', max=310, min=96)"
      ]
     },
     "metadata": {},
     "output_type": "display_data"
    },
    {
     "data": {
      "application/vnd.jupyter.widget-view+json": {
       "model_id": "1cb034593f5949d099739dc753bc231b",
       "version_major": 2,
       "version_minor": 0
      },
      "text/plain": [
       "IntSlider(value=4, description='Time_Spend_Company:', max=10, min=2)"
      ]
     },
     "metadata": {},
     "output_type": "display_data"
    },
    {
     "data": {
      "application/vnd.jupyter.widget-view+json": {
       "model_id": "f570d17c42a0492d89fc42173b6548f9",
       "version_major": 2,
       "version_minor": 0
      },
      "text/plain": [
       "ToggleButtons(description='Work_accident:', options=(0, 1), value=0)"
      ]
     },
     "metadata": {},
     "output_type": "display_data"
    },
    {
     "data": {
      "application/vnd.jupyter.widget-view+json": {
       "model_id": "c585b992fb914bd4a5429494efecca48",
       "version_major": 2,
       "version_minor": 0
      },
      "text/plain": [
       "ToggleButtons(description='Promotion_Last_5years:', options=(0, 1), value=0)"
      ]
     },
     "metadata": {},
     "output_type": "display_data"
    },
    {
     "data": {
      "application/vnd.jupyter.widget-view+json": {
       "model_id": "98203112a7b6400ca8c35bcaa6a8c2ad",
       "version_major": 2,
       "version_minor": 0
      },
      "text/plain": [
       "Dropdown(description='Departments:', options=('support', 'sales', 'hr', 'marketing', 'technical', 'management'…"
      ]
     },
     "metadata": {},
     "output_type": "display_data"
    },
    {
     "data": {
      "application/vnd.jupyter.widget-view+json": {
       "model_id": "43be6cd62e5a42e19343ca73bd08d819",
       "version_major": 2,
       "version_minor": 0
      },
      "text/plain": [
       "ToggleButtons(description='Salary:', options=('low', 'medium', 'high'), value='low')"
      ]
     },
     "metadata": {},
     "output_type": "display_data"
    },
    {
     "data": {
      "application/vnd.jupyter.widget-view+json": {
       "model_id": "5759f9d50e1340208323e225232ff8ba",
       "version_major": 2,
       "version_minor": 0
      },
      "text/plain": [
       "Button(description='Predict', style=ButtonStyle())"
      ]
     },
     "metadata": {},
     "output_type": "display_data"
    },
    {
     "data": {
      "application/vnd.jupyter.widget-view+json": {
       "model_id": "57fa3476ac4549ac8bb043a2b95519e2",
       "version_major": 2,
       "version_minor": 0
      },
      "text/plain": [
       "Output()"
      ]
     },
     "metadata": {},
     "output_type": "display_data"
    }
   ],
   "source": [
    "predict_btn = widgets.Button(\n",
    "    description='Predict'\n",
    ")\n",
    "\n",
    "prediction_out = widgets.Output()\n",
    "\n",
    "def make_prediction(btn):\n",
    "    x = pd.DataFrame({\n",
    "        'satisfaction_level': satisfaction_level_widget.value,\n",
    "        'last_evaluation': last_evaluation_widget.value,\n",
    "        'number_project': number_project_widget.value,\n",
    "        'average_montly_hours': average_montly_hours_widget.value,\n",
    "        'time_spend_company': time_spend_company_widget.value,\n",
    "        'work_accident': work_accident_widget.value,\n",
    "        'promotion_last_5years': promotion_last_5years_widget.value,\n",
    "        'departments': departments_widget.value,\n",
    "        'salary': salary_widget.value\n",
    "    }, index=[0])\n",
    "    \n",
    "    prediction = rf_model.predict(x)\n",
    "    \n",
    "    with prediction_out:\n",
    "        prediction_out.clear_output()\n",
    "        if prediction[0] == 0:\n",
    "            print('Prediction: ', prediction[0], '(stayed)')\n",
    "        else:\n",
    "            print('Prediction: ', prediction[0], '(left)')\n",
    "        \n",
    "predict_btn.on_click(make_prediction)\n",
    "\n",
    "display(satisfaction_level_widget, last_evaluation_widget, number_project_widget, average_montly_hours_widget, \n",
    "        time_spend_company_widget, work_accident_widget, promotion_last_5years_widget, departments_widget, \n",
    "        salary_widget, predict_btn, prediction_out)"
   ]
  },
  {
   "cell_type": "markdown",
   "metadata": {},
   "source": [
    "<div class=\"alert alert-block alert-success\">\n",
    "    \n",
    "<b>MODEL COMPARING</b>\n",
    "    \n",
    "</div>"
   ]
  },
  {
   "cell_type": "code",
   "execution_count": 176,
   "metadata": {},
   "outputs": [
    {
     "data": {
      "image/png": "[encoded data removed]",
      "text/plain": [
       "<Figure size 1296x360 with 6 Axes>"
      ]
     },
     "metadata": {},
     "output_type": "display_data"
    }
   ],
   "source": [
    "fig, axes = plt.subplots(1,3, figsize=(18,5))\n",
    "plt.rcParams.update({'font.size': 14})\n",
    "\n",
    "classifiers = [gbc_model, knn_model, rf_model]\n",
    "for cls, ax in zip(classifiers, axes.flatten()):\n",
    "    plot_confusion_matrix(cls, X_test, y_test, cmap=plt.cm.Purples, ax=ax)\n",
    "    ax.grid(False)\n",
    "    ax.title.set_text(type(cls.named_steps['clf']).__name__)\n",
    "\n",
    "plt.tight_layout()\n",
    "plt.show()"
   ]
  },
  {
   "cell_type": "code",
   "execution_count": 179,
   "metadata": {},
   "outputs": [],
   "source": [
    "compare = pd.DataFrame({\n",
    "            'Model': ['Gradient Boosting', 'KNN',  'Random Forest'],\n",
    "            'accuracy': [gbc_accuracy, knn_accuracy, rf_accuracy],\n",
    "            'precision': [gbc_precision, knn_precision, rf_precision],\n",
    "            'recall': [gbc_recall, knn_recall, rf_recall],\n",
    "            'f1': [gbc_f1, knn_f1, rf_f1],\n",
    "            'precision_recall': [gbc_precision_recall, knn_precision_recall, rf_precision_recall]\n",
    "})"
   ]
  },
  {
   "cell_type": "code",
   "execution_count": 180,
   "metadata": {},
   "outputs": [
    {
     "data": {
      "text/html": [
       "<div>\n",
       "<style scoped>\n",
       "    .dataframe tbody tr th:only-of-type {\n",
       "        vertical-align: middle;\n",
       "    }\n",
       "\n",
       "    .dataframe tbody tr th {\n",
       "        vertical-align: top;\n",
       "    }\n",
       "\n",
       "    .dataframe thead th {\n",
       "        text-align: right;\n",
       "    }\n",
       "</style>\n",
       "<table border=\"1\" class=\"dataframe\">\n",
       "  <thead>\n",
       "    <tr style=\"text-align: right;\">\n",
       "      <th></th>\n",
       "      <th>Model</th>\n",
       "      <th>accuracy</th>\n",
       "      <th>precision</th>\n",
       "      <th>recall</th>\n",
       "      <th>f1</th>\n",
       "      <th>precision_recall</th>\n",
       "    </tr>\n",
       "  </thead>\n",
       "  <tbody>\n",
       "    <tr>\n",
       "      <th>0</th>\n",
       "      <td>Gradient Boosting</td>\n",
       "      <td>0.985</td>\n",
       "      <td>0.986</td>\n",
       "      <td>0.923</td>\n",
       "      <td>0.953</td>\n",
       "      <td>0.968</td>\n",
       "    </tr>\n",
       "    <tr>\n",
       "      <th>1</th>\n",
       "      <td>KNN</td>\n",
       "      <td>0.967</td>\n",
       "      <td>0.896</td>\n",
       "      <td>0.906</td>\n",
       "      <td>0.901</td>\n",
       "      <td>0.891</td>\n",
       "    </tr>\n",
       "    <tr>\n",
       "      <th>2</th>\n",
       "      <td>Random Forest</td>\n",
       "      <td>0.986</td>\n",
       "      <td>0.989</td>\n",
       "      <td>0.923</td>\n",
       "      <td>0.955</td>\n",
       "      <td>0.962</td>\n",
       "    </tr>\n",
       "  </tbody>\n",
       "</table>\n",
       "</div>"
      ],
      "text/plain": [
       "               Model  accuracy  precision  recall    f1  precision_recall\n",
       "0  Gradient Boosting     0.985      0.986   0.923 0.953             0.968\n",
       "1                KNN     0.967      0.896   0.906 0.901             0.891\n",
       "2      Random Forest     0.986      0.989   0.923 0.955             0.962"
      ]
     },
     "execution_count": 180,
     "metadata": {},
     "output_type": "execute_result"
    }
   ],
   "source": [
    "compare"
   ]
  },
  {
   "cell_type": "code",
   "execution_count": 181,
   "metadata": {},
   "outputs": [
    {
     "data": {
      "image/png": "[encoded data removed]",
      "text/plain": [
       "<Figure size 1008x1008 with 5 Axes>"
      ]
     },
     "metadata": {},
     "output_type": "display_data"
    }
   ],
   "source": [
    "plt.figure(figsize=(14,14))\n",
    "\n",
    "index = 0\n",
    "colors={'Gradient Boosting': 'purple', 'Random Forest': 'orange', 'KNN': 'brown'}\n",
    "\n",
    "for col in compare.iloc[:, 1:].columns:    \n",
    "    index += 1\n",
    "    plt.subplot(3,2,index)\n",
    "    a = sns.barplot(data=compare.sort_values(col, ascending=False), x='Model', y=col, palette=colors)\n",
    "    a.bar_label(a.containers[0], fmt='%.3f', fontsize=13), plt.ylim(0, 1.2)\n",
    "    plt.title(f'Distribution of {col} Scores', fontsize=14, pad=10)\n",
    "plt.tight_layout()"
   ]
  },
  {
   "cell_type": "markdown",
   "metadata": {
    "id": "Hv7E8XsazFMM"
   },
   "source": [
    "## 6. Model Deployment\n",
    "\n",
    "You cooked the food in the kitchen and moved on to the serving stage. The question is how do you showcase your work to others? Model Deployment helps you showcase your work to the world and make better decisions with it. But, deploying a model can get a little tricky at times. Before deploying the model, many things such as data storage, preprocessing, model building and monitoring need to be studied. Streamlit is a popular open source framework used by data scientists for model distribution.\n",
    "\n",
    "Deployment of machine learning models, means making your models available to your other business systems. By deploying models, other systems can send data to them and get their predictions, which are in turn populated back into the company systems. Through machine learning model deployment, can begin to take full advantage of the model you built.\n",
    "\n",
    "Data science is concerned with how to build machine learning models, which algorithm is more predictive, how to design features, and what variables to use to make the models more accurate. However, how these models are actually used is often neglected. And yet this is the most important step in the machine learning pipeline. Only when a model is fully integrated with the business systems, real values ​​can be extract from its predictions.\n",
    "\n",
    "After doing the following operations in this notebook, jump to new .py file and create your web app with Streamlit."
   ]
  },
  {
   "cell_type": "markdown",
   "metadata": {
    "id": "m5pwXBOkJPeM"
   },
   "source": [
    "### Save and Export the Model as .pkl"
   ]
  },
  {
   "cell_type": "code",
   "execution_count": 182,
   "metadata": {
    "id": "mmlin9CEzFr7"
   },
   "outputs": [],
   "source": [
    "import joblib\n",
    "joblib.dump(gbc_model, open('gbc_model.pkl', 'wb'))\n",
    "joblib.dump(knn_model, open('knn_model.pkl', 'wb'))\n",
    "joblib.dump(rf_model, open('rf_model.pkl', 'wb'))"
   ]
  },
  {
   "cell_type": "code",
   "execution_count": null,
   "metadata": {},
   "outputs": [],
   "source": []
  },
  {
   "cell_type": "code",
   "execution_count": 183,
   "metadata": {},
   "outputs": [],
   "source": [
    "# sample prediction\n",
    "gbc_model = joblib.load(open('gbc_model.pkl', 'rb'))"
   ]
  },
  {
   "cell_type": "code",
   "execution_count": 184,
   "metadata": {},
   "outputs": [
    {
     "data": {
      "text/html": [
       "<div>\n",
       "<style scoped>\n",
       "    .dataframe tbody tr th:only-of-type {\n",
       "        vertical-align: middle;\n",
       "    }\n",
       "\n",
       "    .dataframe tbody tr th {\n",
       "        vertical-align: top;\n",
       "    }\n",
       "\n",
       "    .dataframe thead th {\n",
       "        text-align: right;\n",
       "    }\n",
       "</style>\n",
       "<table border=\"1\" class=\"dataframe\">\n",
       "  <thead>\n",
       "    <tr style=\"text-align: right;\">\n",
       "      <th></th>\n",
       "      <th>satisfaction_level</th>\n",
       "      <th>last_evaluation</th>\n",
       "      <th>number_project</th>\n",
       "      <th>average_montly_hours</th>\n",
       "      <th>time_spend_company</th>\n",
       "      <th>work_accident</th>\n",
       "      <th>promotion_last_5years</th>\n",
       "      <th>departments</th>\n",
       "      <th>salary</th>\n",
       "    </tr>\n",
       "  </thead>\n",
       "  <tbody>\n",
       "    <tr>\n",
       "      <th>0</th>\n",
       "      <td>0.380</td>\n",
       "      <td>0.530</td>\n",
       "      <td>2</td>\n",
       "      <td>157</td>\n",
       "      <td>3</td>\n",
       "      <td>0</td>\n",
       "      <td>0</td>\n",
       "      <td>sales</td>\n",
       "      <td>low</td>\n",
       "    </tr>\n",
       "  </tbody>\n",
       "</table>\n",
       "</div>"
      ],
      "text/plain": [
       "   satisfaction_level  last_evaluation  number_project  average_montly_hours  \\\n",
       "0               0.380            0.530               2                   157   \n",
       "\n",
       "   time_spend_company  work_accident  promotion_last_5years departments salary  \n",
       "0                   3              0                      0       sales    low  "
      ]
     },
     "execution_count": 184,
     "metadata": {},
     "output_type": "execute_result"
    }
   ],
   "source": [
    "sample = pd.DataFrame({\n",
    "        'satisfaction_level': 0.38,\n",
    "        'last_evaluation': 0.53,\n",
    "        'number_project': 2,\n",
    "        'average_montly_hours': 157,\n",
    "        'time_spend_company': 3,\n",
    "        'work_accident': 0,\n",
    "        'promotion_last_5years': 0,\n",
    "        'departments': 'sales',\n",
    "        'salary': 'low'\n",
    "}, index=[0])\n",
    "\n",
    "sample"
   ]
  },
  {
   "cell_type": "code",
   "execution_count": 185,
   "metadata": {},
   "outputs": [
    {
     "data": {
      "text/plain": [
       "array([1], dtype=int64)"
      ]
     },
     "execution_count": 185,
     "metadata": {},
     "output_type": "execute_result"
    }
   ],
   "source": [
    "gbc_model.predict(sample)"
   ]
  },
  {
   "cell_type": "markdown",
   "metadata": {
    "id": "r7sGSN6RJR6V"
   },
   "source": [
    "### Save and Export Variables as .pkl"
   ]
  },
  {
   "cell_type": "code",
   "execution_count": 186,
   "metadata": {
    "id": "2WeQNcROJScb"
   },
   "outputs": [],
   "source": [
    "# column transformer and pipeline was used for data pre-processing (encoding and scaling)"
   ]
  },
  {
   "cell_type": "markdown",
   "metadata": {
    "id": "aD6JV41czCKr"
   },
   "source": [
    "___\n",
    "\n",
    "<p style=\"text-align: center;\"><img src=\"https://docs.google.com/uc?id=1lY0Uj5R04yMY3-ZppPWxqCr5pvBLYPnV\" class=\"img-fluid\" alt=\"CLRSWY\"></p>\n",
    "\n",
    "___"
   ]
  }
 ],
 "metadata": {
  "colab": {
   "collapsed_sections": [],
   "name": "Churn Prediction_Student_Notebook.ipynb",
   "provenance": []
  },
  "kernelspec": {
   "display_name": "Python 3 (ipykernel)",
   "language": "python",
   "name": "python3"
  },
  "language_info": {
   "codemirror_mode": {
    "name": "ipython",
    "version": 3
   },
   "file_extension": ".py",
   "mimetype": "text/x-python",
   "name": "python",
   "nbconvert_exporter": "python",
   "pygments_lexer": "ipython3",
   "version": "3.9.7"
  }
 },
 "nbformat": 4,
 "nbformat_minor": 1
}
